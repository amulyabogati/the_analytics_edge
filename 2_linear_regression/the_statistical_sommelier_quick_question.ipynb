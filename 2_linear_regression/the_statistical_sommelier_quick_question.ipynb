{
 "cells": [
  {
   "cell_type": "markdown",
   "source": [
    "# The Statistical Sommelier: An Introduction to Linear Regression\r\n",
    "\r\n",
    "## Quick Question\r\n",
    "Use the dataset wine.csv to create a linear regression model to predict **Price** using **HarvestRain** and **WinterRain** as independent variables.\r\n",
    "\r\n",
    "What is the \"Multiple R-squared\" value of your model?"
   ],
   "metadata": {}
  },
  {
   "cell_type": "code",
   "execution_count": 1,
   "source": [
    "import pandas as pd\r\n",
    "\r\n",
    "import statsmodels.api as sm"
   ],
   "outputs": [],
   "metadata": {}
  },
  {
   "cell_type": "code",
   "execution_count": 2,
   "source": [
    "wine = pd.read_csv('../data/wine.csv')\r\n",
    "wine.info()"
   ],
   "outputs": [
    {
     "output_type": "stream",
     "name": "stdout",
     "text": [
      "<class 'pandas.core.frame.DataFrame'>\n",
      "RangeIndex: 25 entries, 0 to 24\n",
      "Data columns (total 7 columns):\n",
      " #   Column       Non-Null Count  Dtype  \n",
      "---  ------       --------------  -----  \n",
      " 0   Year         25 non-null     int64  \n",
      " 1   Price        25 non-null     float64\n",
      " 2   WinterRain   25 non-null     int64  \n",
      " 3   AGST         25 non-null     float64\n",
      " 4   HarvestRain  25 non-null     int64  \n",
      " 5   Age          25 non-null     int64  \n",
      " 6   FrancePop    25 non-null     float64\n",
      "dtypes: float64(3), int64(4)\n",
      "memory usage: 1.5 KB\n"
     ]
    }
   ],
   "metadata": {}
  },
  {
   "cell_type": "markdown",
   "source": [
    "What is the \"Multiple R-squared\" value of your model?\r\n",
    "- 0.318\r\n",
    "\r\n",
    "What is the coefficient for HarvestRain?\r\n",
    "- -0.0050\r\n",
    "\r\n",
    "What is the intercept coefficient?\r\n",
    "- 7.8653"
   ],
   "metadata": {}
  },
  {
   "cell_type": "code",
   "execution_count": 3,
   "source": [
    "features = ['HarvestRain', 'WinterRain']\r\n",
    "X = wine[features]\r\n",
    "y = wine['Price']\r\n",
    "\r\n",
    "X.insert(0, 'Constant', 1)\r\n",
    "\r\n",
    "ols = sm.OLS(y, X)\r\n",
    "results = ols.fit()\r\n",
    "print(results.summary())"
   ],
   "outputs": [
    {
     "output_type": "stream",
     "name": "stdout",
     "text": [
      "                            OLS Regression Results                            \n",
      "==============================================================================\n",
      "Dep. Variable:                  Price   R-squared:                       0.318\n",
      "Model:                            OLS   Adj. R-squared:                  0.256\n",
      "Method:                 Least Squares   F-statistic:                     5.122\n",
      "Date:                Sat, 14 Aug 2021   Prob (F-statistic):             0.0149\n",
      "Time:                        14:34:03   Log-Likelihood:                -19.428\n",
      "No. Observations:                  25   AIC:                             44.86\n",
      "Df Residuals:                      22   BIC:                             48.51\n",
      "Df Model:                           2                                         \n",
      "Covariance Type:            nonrobust                                         \n",
      "===============================================================================\n",
      "                  coef    std err          t      P>|t|      [0.025      0.975]\n",
      "-------------------------------------------------------------------------------\n",
      "Constant        7.8653      0.662     11.888      0.000       6.493       9.237\n",
      "HarvestRain    -0.0050      0.002     -3.105      0.005      -0.008      -0.002\n",
      "WinterRain  -9.848e-05      0.001     -0.109      0.914      -0.002       0.002\n",
      "==============================================================================\n",
      "Omnibus:                        0.256   Durbin-Watson:                   1.626\n",
      "Prob(Omnibus):                  0.880   Jarque-Bera (JB):                0.235\n",
      "Skew:                           0.195   Prob(JB):                        0.889\n",
      "Kurtosis:                       2.730   Cond. No.                     3.75e+03\n",
      "==============================================================================\n",
      "\n",
      "Notes:\n",
      "[1] Standard Errors assume that the covariance matrix of the errors is correctly specified.\n",
      "[2] The condition number is large, 3.75e+03. This might indicate that there are\n",
      "strong multicollinearity or other numerical problems.\n"
     ]
    }
   ],
   "metadata": {}
  },
  {
   "cell_type": "markdown",
   "source": [
    "Is the coefficient for HarvestRain significant?\r\n",
    "- Yes\r\n",
    "\r\n",
    "Is the coefficient for WinterRain significant?\r\n",
    "- No"
   ],
   "metadata": {}
  },
  {
   "cell_type": "markdown",
   "source": [
    "Using the data set wine.csv, what is the correlation between HarvestRain and WinterRain?"
   ],
   "metadata": {}
  },
  {
   "cell_type": "code",
   "execution_count": 4,
   "source": [
    "wine[features].corr().round(4)"
   ],
   "outputs": [
    {
     "output_type": "execute_result",
     "data": {
      "text/plain": [
       "             HarvestRain  WinterRain\n",
       "HarvestRain       1.0000     -0.2754\n",
       "WinterRain       -0.2754      1.0000"
      ],
      "text/html": [
       "<div>\n",
       "<style scoped>\n",
       "    .dataframe tbody tr th:only-of-type {\n",
       "        vertical-align: middle;\n",
       "    }\n",
       "\n",
       "    .dataframe tbody tr th {\n",
       "        vertical-align: top;\n",
       "    }\n",
       "\n",
       "    .dataframe thead th {\n",
       "        text-align: right;\n",
       "    }\n",
       "</style>\n",
       "<table border=\"1\" class=\"dataframe\">\n",
       "  <thead>\n",
       "    <tr style=\"text-align: right;\">\n",
       "      <th></th>\n",
       "      <th>HarvestRain</th>\n",
       "      <th>WinterRain</th>\n",
       "    </tr>\n",
       "  </thead>\n",
       "  <tbody>\n",
       "    <tr>\n",
       "      <th>HarvestRain</th>\n",
       "      <td>1.0000</td>\n",
       "      <td>-0.2754</td>\n",
       "    </tr>\n",
       "    <tr>\n",
       "      <th>WinterRain</th>\n",
       "      <td>-0.2754</td>\n",
       "      <td>1.0000</td>\n",
       "    </tr>\n",
       "  </tbody>\n",
       "</table>\n",
       "</div>"
      ]
     },
     "metadata": {},
     "execution_count": 4
    }
   ],
   "metadata": {}
  }
 ],
 "metadata": {
  "orig_nbformat": 4,
  "language_info": {
   "name": "python",
   "version": "3.9.6",
   "mimetype": "text/x-python",
   "codemirror_mode": {
    "name": "ipython",
    "version": 3
   },
   "pygments_lexer": "ipython3",
   "nbconvert_exporter": "python",
   "file_extension": ".py"
  },
  "kernelspec": {
   "name": "python3",
   "display_name": "Python 3.9.6 64-bit"
  },
  "interpreter": {
   "hash": "9e6fe232ec1802e04813a62eadbd4a033db6fcefdd78d84705bbb38e45fcef4a"
  }
 },
 "nbformat": 4,
 "nbformat_minor": 2
}