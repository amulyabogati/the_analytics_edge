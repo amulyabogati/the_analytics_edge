{
 "cells": [
  {
   "cell_type": "code",
   "execution_count": 1,
   "source": [
    "# import library.\r\n",
    "import pandas as pd\r\n",
    "import numpy as np\r\n",
    "\r\n",
    "import statsmodels.api as sm\r\n",
    "\r\n",
    "from sklearn.linear_model import LinearRegression"
   ],
   "outputs": [],
   "metadata": {}
  },
  {
   "cell_type": "code",
   "execution_count": 2,
   "source": [
    "# training set.\r\n",
    "wine = pd.read_csv('../data/wine.csv')\r\n",
    "wine.info()"
   ],
   "outputs": [
    {
     "output_type": "stream",
     "name": "stdout",
     "text": [
      "<class 'pandas.core.frame.DataFrame'>\n",
      "RangeIndex: 25 entries, 0 to 24\n",
      "Data columns (total 7 columns):\n",
      " #   Column       Non-Null Count  Dtype  \n",
      "---  ------       --------------  -----  \n",
      " 0   Year         25 non-null     int64  \n",
      " 1   Price        25 non-null     float64\n",
      " 2   WinterRain   25 non-null     int64  \n",
      " 3   AGST         25 non-null     float64\n",
      " 4   HarvestRain  25 non-null     int64  \n",
      " 5   Age          25 non-null     int64  \n",
      " 6   FrancePop    25 non-null     float64\n",
      "dtypes: float64(3), int64(4)\n",
      "memory usage: 1.5 KB\n"
     ]
    }
   ],
   "metadata": {}
  },
  {
   "cell_type": "code",
   "execution_count": 3,
   "source": [
    "# feature and target sets.\r\n",
    "features_init = ['AGST', 'HarvestRain', 'Age', 'WinterRain', 'FrancePop']\r\n",
    "X_init = wine[features_init]\r\n",
    "y_init = wine['Price']\r\n",
    "\r\n",
    "\r\n",
    "# summary of coefficient sections.\r\n",
    "ols_X_init = X_init\r\n",
    "ols_X_init.insert(0, 'Constant', np.ones(ols_X_init.shape[0], dtype=int))\r\n",
    "\r\n",
    "ols_init = sm.OLS(y_init, ols_X_init)\r\n",
    "ols_results_init = ols_init.fit()\r\n",
    "print(ols_results_init.summary())"
   ],
   "outputs": [
    {
     "output_type": "stream",
     "name": "stdout",
     "text": [
      "                            OLS Regression Results                            \n",
      "==============================================================================\n",
      "Dep. Variable:                  Price   R-squared:                       0.829\n",
      "Model:                            OLS   Adj. R-squared:                  0.784\n",
      "Method:                 Least Squares   F-statistic:                     18.47\n",
      "Date:                Sat, 14 Aug 2021   Prob (F-statistic):           1.04e-06\n",
      "Time:                        14:33:54   Log-Likelihood:                -2.1043\n",
      "No. Observations:                  25   AIC:                             16.21\n",
      "Df Residuals:                      19   BIC:                             23.52\n",
      "Df Model:                           5                                         \n",
      "Covariance Type:            nonrobust                                         \n",
      "===============================================================================\n",
      "                  coef    std err          t      P>|t|      [0.025      0.975]\n",
      "-------------------------------------------------------------------------------\n",
      "Constant       -0.4504     10.189     -0.044      0.965     -21.776      20.875\n",
      "AGST            0.6012      0.103      5.836      0.000       0.386       0.817\n",
      "HarvestRain    -0.0040      0.001     -4.523      0.000      -0.006      -0.002\n",
      "Age             0.0006      0.079      0.007      0.994      -0.165       0.166\n",
      "WinterRain      0.0010      0.001      1.963      0.064   -6.89e-05       0.002\n",
      "FrancePop   -4.953e-05      0.000     -0.297      0.770      -0.000       0.000\n",
      "==============================================================================\n",
      "Omnibus:                        1.769   Durbin-Watson:                   2.792\n",
      "Prob(Omnibus):                  0.413   Jarque-Bera (JB):                1.026\n",
      "Skew:                          -0.005   Prob(JB):                        0.599\n",
      "Kurtosis:                       2.008   Cond. No.                     8.41e+06\n",
      "==============================================================================\n",
      "\n",
      "Notes:\n",
      "[1] Standard Errors assume that the covariance matrix of the errors is correctly specified.\n",
      "[2] The condition number is large, 8.41e+06. This might indicate that there are\n",
      "strong multicollinearity or other numerical problems.\n"
     ]
    }
   ],
   "metadata": {}
  },
  {
   "cell_type": "code",
   "execution_count": 4,
   "source": [
    "# using significant features.\r\n",
    "features_sig = ['AGST', 'HarvestRain', 'Age', 'WinterRain']\r\n",
    "X_sig = wine[features_sig]\r\n",
    "y_sig = wine['Price']\r\n",
    "\r\n",
    "\r\n",
    "# summary of coefficient sections.\r\n",
    "ols_X_sig = X_sig\r\n",
    "ols_X_sig.insert(0, 'Constant', np.ones(ols_X_sig.shape[0], dtype=int))\r\n",
    "\r\n",
    "ols_sig = sm.OLS(y_sig, ols_X_sig)\r\n",
    "ols_results_sig = ols_sig.fit()\r\n",
    "print(ols_results_sig.summary())"
   ],
   "outputs": [
    {
     "output_type": "stream",
     "name": "stdout",
     "text": [
      "                            OLS Regression Results                            \n",
      "==============================================================================\n",
      "Dep. Variable:                  Price   R-squared:                       0.829\n",
      "Model:                            OLS   Adj. R-squared:                  0.794\n",
      "Method:                 Least Squares   F-statistic:                     24.17\n",
      "Date:                Sat, 14 Aug 2021   Prob (F-statistic):           2.04e-07\n",
      "Time:                        14:33:54   Log-Likelihood:                -2.1622\n",
      "No. Observations:                  25   AIC:                             14.32\n",
      "Df Residuals:                      20   BIC:                             20.42\n",
      "Df Model:                           4                                         \n",
      "Covariance Type:            nonrobust                                         \n",
      "===============================================================================\n",
      "                  coef    std err          t      P>|t|      [0.025      0.975]\n",
      "-------------------------------------------------------------------------------\n",
      "Constant       -3.4300      1.766     -1.942      0.066      -7.114       0.254\n",
      "AGST            0.6072      0.099      6.152      0.000       0.401       0.813\n",
      "HarvestRain    -0.0040      0.001     -4.652      0.000      -0.006      -0.002\n",
      "Age             0.0239      0.008      2.956      0.008       0.007       0.041\n",
      "WinterRain      0.0011      0.001      2.120      0.047    1.73e-05       0.002\n",
      "==============================================================================\n",
      "Omnibus:                        1.814   Durbin-Watson:                   2.797\n",
      "Prob(Omnibus):                  0.404   Jarque-Bera (JB):                1.041\n",
      "Skew:                           0.034   Prob(JB):                        0.594\n",
      "Kurtosis:                       2.003   Cond. No.                     1.91e+04\n",
      "==============================================================================\n",
      "\n",
      "Notes:\n",
      "[1] Standard Errors assume that the covariance matrix of the errors is correctly specified.\n",
      "[2] The condition number is large, 1.91e+04. This might indicate that there are\n",
      "strong multicollinearity or other numerical problems.\n"
     ]
    }
   ],
   "metadata": {}
  },
  {
   "cell_type": "code",
   "execution_count": 5,
   "source": [
    "# testing set.\r\n",
    "wine_test = pd.read_csv('../data/wine_test.csv')\r\n",
    "wine_test.head()"
   ],
   "outputs": [
    {
     "output_type": "execute_result",
     "data": {
      "text/plain": [
       "   Year   Price  WinterRain     AGST  HarvestRain  Age  FrancePop\n",
       "0  1979  6.9541         717  16.1667          122    4  54835.832\n",
       "1  1980  6.4979         578  16.0000           74    3  55110.236"
      ],
      "text/html": [
       "<div>\n",
       "<style scoped>\n",
       "    .dataframe tbody tr th:only-of-type {\n",
       "        vertical-align: middle;\n",
       "    }\n",
       "\n",
       "    .dataframe tbody tr th {\n",
       "        vertical-align: top;\n",
       "    }\n",
       "\n",
       "    .dataframe thead th {\n",
       "        text-align: right;\n",
       "    }\n",
       "</style>\n",
       "<table border=\"1\" class=\"dataframe\">\n",
       "  <thead>\n",
       "    <tr style=\"text-align: right;\">\n",
       "      <th></th>\n",
       "      <th>Year</th>\n",
       "      <th>Price</th>\n",
       "      <th>WinterRain</th>\n",
       "      <th>AGST</th>\n",
       "      <th>HarvestRain</th>\n",
       "      <th>Age</th>\n",
       "      <th>FrancePop</th>\n",
       "    </tr>\n",
       "  </thead>\n",
       "  <tbody>\n",
       "    <tr>\n",
       "      <th>0</th>\n",
       "      <td>1979</td>\n",
       "      <td>6.9541</td>\n",
       "      <td>717</td>\n",
       "      <td>16.1667</td>\n",
       "      <td>122</td>\n",
       "      <td>4</td>\n",
       "      <td>54835.832</td>\n",
       "    </tr>\n",
       "    <tr>\n",
       "      <th>1</th>\n",
       "      <td>1980</td>\n",
       "      <td>6.4979</td>\n",
       "      <td>578</td>\n",
       "      <td>16.0000</td>\n",
       "      <td>74</td>\n",
       "      <td>3</td>\n",
       "      <td>55110.236</td>\n",
       "    </tr>\n",
       "  </tbody>\n",
       "</table>\n",
       "</div>"
      ]
     },
     "metadata": {},
     "execution_count": 5
    }
   ],
   "metadata": {}
  },
  {
   "cell_type": "code",
   "execution_count": 6,
   "source": [
    "# fit model and predict.\r\n",
    "X_test = wine_test[features_sig]\r\n",
    "y_test = wine_test['Price']\r\n",
    "\r\n",
    "model = LinearRegression().fit(X_sig.iloc[:, 1:], y_sig)\r\n",
    "\r\n",
    "y_pred = model.predict(X_test)\r\n",
    "print(f\"Actual: {np.round(np.array(y_test), 3)}\\nPredict: {np.round(y_pred, 3)}\")"
   ],
   "outputs": [
    {
     "output_type": "stream",
     "name": "stdout",
     "text": [
      "Actual: [6.954 6.498]\n",
      "Predict: [6.769 6.685]\n"
     ]
    }
   ],
   "metadata": {}
  },
  {
   "cell_type": "code",
   "execution_count": 7,
   "source": [
    "# compute R2 for test set.\r\n",
    "results = pd.DataFrame({'Actual': np.array(y_test), 'Predict': y_pred}).round(3)\r\n",
    "\r\n",
    "sse = ((results['Actual'] - results['Predict'])**2).sum()\r\n",
    "sst = ((results['Actual'] - y_sig.mean())**2).sum()\r\n",
    "print(f\"R2 Score: {(1 - sse / sst).round(3)}\")"
   ],
   "outputs": [
    {
     "output_type": "stream",
     "name": "stdout",
     "text": [
      "R2 Score: 0.795\n"
     ]
    }
   ],
   "metadata": {}
  }
 ],
 "metadata": {
  "orig_nbformat": 4,
  "language_info": {
   "name": "python",
   "version": "3.9.6",
   "mimetype": "text/x-python",
   "codemirror_mode": {
    "name": "ipython",
    "version": 3
   },
   "pygments_lexer": "ipython3",
   "nbconvert_exporter": "python",
   "file_extension": ".py"
  },
  "kernelspec": {
   "name": "python3",
   "display_name": "Python 3.9.6 64-bit"
  },
  "interpreter": {
   "hash": "9e6fe232ec1802e04813a62eadbd4a033db6fcefdd78d84705bbb38e45fcef4a"
  }
 },
 "nbformat": 4,
 "nbformat_minor": 2
}