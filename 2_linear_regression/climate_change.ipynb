{
 "cells": [
  {
   "cell_type": "markdown",
   "source": [
    "# Climate Change\r\n",
    "\r\n",
    "## Problem 1.1 - Creating Our First Model\r\n",
    "We are interested in how changes in these variables affect future temperatures, as well as how well these variables explain temperature changes so far. To do this, first read the dataset *climate_change.csv* into Python.\r\n",
    "\r\n",
    "Then, split the data into a *training* set, consisting of all the observations up to and including 2006, and a *testing* set consisting of the remaining years."
   ],
   "metadata": {}
  },
  {
   "cell_type": "code",
   "execution_count": 1,
   "source": [
    "import pandas as pd\r\n",
    "\r\n",
    "import statsmodels.api as sm\r\n",
    "from sklearn.linear_model import LinearRegression\r\n",
    "from mlxtend.feature_selection import SequentialFeatureSelector as sfs\r\n",
    "\r\n",
    "import warnings\r\n",
    "warnings.simplefilter(action='ignore', category=FutureWarning)"
   ],
   "outputs": [],
   "metadata": {}
  },
  {
   "cell_type": "code",
   "execution_count": 2,
   "source": [
    "climate_change = pd.read_csv('../data/climate_change.csv')\r\n",
    "climate_change.info()"
   ],
   "outputs": [
    {
     "output_type": "stream",
     "name": "stdout",
     "text": [
      "<class 'pandas.core.frame.DataFrame'>\n",
      "RangeIndex: 308 entries, 0 to 307\n",
      "Data columns (total 11 columns):\n",
      " #   Column    Non-Null Count  Dtype  \n",
      "---  ------    --------------  -----  \n",
      " 0   Year      308 non-null    int64  \n",
      " 1   Month     308 non-null    int64  \n",
      " 2   MEI       308 non-null    float64\n",
      " 3   CO2       308 non-null    float64\n",
      " 4   CH4       308 non-null    float64\n",
      " 5   N2O       308 non-null    float64\n",
      " 6   CFC-11    308 non-null    float64\n",
      " 7   CFC-12    308 non-null    float64\n",
      " 8   TSI       308 non-null    float64\n",
      " 9   Aerosols  308 non-null    float64\n",
      " 10  Temp      308 non-null    float64\n",
      "dtypes: float64(9), int64(2)\n",
      "memory usage: 26.6 KB\n"
     ]
    }
   ],
   "metadata": {}
  },
  {
   "cell_type": "code",
   "execution_count": 3,
   "source": [
    "train = climate_change[climate_change['Year']<=2006].copy()\r\n",
    "test = climate_change[climate_change['Year']>2006].copy()"
   ],
   "outputs": [],
   "metadata": {}
  },
  {
   "cell_type": "markdown",
   "source": [
    "Next, build a linear regression model to predict the dependent variable **Temp**, using **MEI**, **CO2**, **CH4**, **N20**, **CFC-11**, **CFC-12**, **TSI**, and **Aerosols** as independent variables (**Year** and **Month** should NOT be used in the model). Use the training set to build the model.\r\n",
    "\r\n",
    "Enter the model R2 (the \"Multiple R-squared\" value):\r\n",
    "- 0.751"
   ],
   "metadata": {}
  },
  {
   "cell_type": "code",
   "execution_count": 4,
   "source": [
    "features = ['MEI', 'CO2', 'CH4', 'N2O', 'CFC-11', 'CFC-12', 'TSI', 'Aerosols']\r\n",
    "X_train = train[features]\r\n",
    "y_train = train['Temp']\r\n",
    "\r\n",
    "model = sm.OLS(y_train, sm.add_constant(X_train)).fit()\r\n",
    "print(model.summary())"
   ],
   "outputs": [
    {
     "output_type": "stream",
     "name": "stdout",
     "text": [
      "                            OLS Regression Results                            \n",
      "==============================================================================\n",
      "Dep. Variable:                   Temp   R-squared:                       0.751\n",
      "Model:                            OLS   Adj. R-squared:                  0.744\n",
      "Method:                 Least Squares   F-statistic:                     103.6\n",
      "Date:                Sat, 14 Aug 2021   Prob (F-statistic):           1.94e-78\n",
      "Time:                        22:12:19   Log-Likelihood:                 280.10\n",
      "No. Observations:                 284   AIC:                            -542.2\n",
      "Df Residuals:                     275   BIC:                            -509.4\n",
      "Df Model:                           8                                         \n",
      "Covariance Type:            nonrobust                                         \n",
      "==============================================================================\n",
      "                 coef    std err          t      P>|t|      [0.025      0.975]\n",
      "------------------------------------------------------------------------------\n",
      "const       -124.5943     19.887     -6.265      0.000    -163.744     -85.445\n",
      "MEI            0.0642      0.006      9.923      0.000       0.051       0.077\n",
      "CO2            0.0065      0.002      2.826      0.005       0.002       0.011\n",
      "CH4            0.0001      0.001      0.240      0.810      -0.001       0.001\n",
      "N2O           -0.0165      0.009     -1.930      0.055      -0.033       0.000\n",
      "CFC-11        -0.0066      0.002     -4.078      0.000      -0.010      -0.003\n",
      "CFC-12         0.0038      0.001      3.757      0.000       0.002       0.006\n",
      "TSI            0.0931      0.015      6.313      0.000       0.064       0.122\n",
      "Aerosols      -1.5376      0.213     -7.210      0.000      -1.957      -1.118\n",
      "==============================================================================\n",
      "Omnibus:                        8.740   Durbin-Watson:                   0.956\n",
      "Prob(Omnibus):                  0.013   Jarque-Bera (JB):               10.327\n",
      "Skew:                           0.289   Prob(JB):                      0.00572\n",
      "Kurtosis:                       3.733   Cond. No.                     8.53e+06\n",
      "==============================================================================\n",
      "\n",
      "Notes:\n",
      "[1] Standard Errors assume that the covariance matrix of the errors is correctly specified.\n",
      "[2] The condition number is large, 8.53e+06. This might indicate that there are\n",
      "strong multicollinearity or other numerical problems.\n"
     ]
    }
   ],
   "metadata": {}
  },
  {
   "cell_type": "markdown",
   "source": [
    "## Problem 1.2 - Creating Our First Model\r\n",
    "Which variables are significant in the model? We will consider a variable signficant only if the p-value is below 0.05. *Select all that apply.*\r\n",
    "- MEI\r\n",
    "- CO2\r\n",
    "- CFC-11\r\n",
    "- CFC-12\r\n",
    "- TSI\r\n",
    "- Aerosols\r\n",
    "\r\n",
    "## Problem 2.1 - Understanding the Model\r\n",
    "Current scientific opinion is that nitrous oxide and CFC-11 are greenhouse gases: gases that are able to trap heat from the sun and contribute to the heating of the Earth. However, the regression coefficients of both the N2O and CFC-11 variables are **negative**, indicating that increasing atmospheric concentrations of either of these two compounds is associated with lower global temperatures.\r\n",
    "\r\n",
    "Which of the following is the *simplest* correct explanation for this contradiction?\r\n",
    "- All of the gas concentration variables reflect human development - N2O and CFC.11 are correlated with other variables in the data set.\r\n",
    "\r\n",
    "## Problem 2.2 - Understanding the Model\r\n",
    "Compute the correlations between all the variables in the training set. Which of the following independent variables is N2O highly correlated with (absolute correlation greater than 0.7)? *Select all that apply.*\r\n",
    "- CO2\r\n",
    "- CH4\r\n",
    "- CFC-12"
   ],
   "metadata": {}
  },
  {
   "cell_type": "code",
   "execution_count": 5,
   "source": [
    "abs(train.corr()['N2O']) > 0.7"
   ],
   "outputs": [
    {
     "output_type": "execute_result",
     "data": {
      "text/plain": [
       "Year         True\n",
       "Month       False\n",
       "MEI         False\n",
       "CO2          True\n",
       "CH4          True\n",
       "N2O          True\n",
       "CFC-11      False\n",
       "CFC-12       True\n",
       "TSI         False\n",
       "Aerosols    False\n",
       "Temp         True\n",
       "Name: N2O, dtype: bool"
      ]
     },
     "metadata": {},
     "execution_count": 5
    }
   ],
   "metadata": {}
  },
  {
   "cell_type": "markdown",
   "source": [
    "Which of the following independent variables is CFC.11 highly correlated with? *Select all that apply.*\r\n",
    "- CH4\r\n",
    "- CFC-12"
   ],
   "metadata": {}
  },
  {
   "cell_type": "code",
   "execution_count": 6,
   "source": [
    "abs(train.corr()['CFC-11']) > 0.7"
   ],
   "outputs": [
    {
     "output_type": "execute_result",
     "data": {
      "text/plain": [
       "Year        False\n",
       "Month       False\n",
       "MEI         False\n",
       "CO2         False\n",
       "CH4          True\n",
       "N2O         False\n",
       "CFC-11       True\n",
       "CFC-12       True\n",
       "TSI         False\n",
       "Aerosols    False\n",
       "Temp        False\n",
       "Name: CFC-11, dtype: bool"
      ]
     },
     "metadata": {},
     "execution_count": 6
    }
   ],
   "metadata": {}
  },
  {
   "cell_type": "markdown",
   "source": [
    "## Problem 3 - Simplifying the Model\r\n",
    "Given that the correlations are so high, let us focus on the N2O variable and build a model with only MEI, TSI, Aerosols and N2O as independent variables. Remember to use the training set to build the model.\r\n",
    "\r\n",
    "Enter the coefficient of N2O in this reduced model:\r\n",
    "- 0.0253"
   ],
   "metadata": {}
  },
  {
   "cell_type": "code",
   "execution_count": 7,
   "source": [
    "reduced_features = ['MEI', 'N2O', 'TSI', 'Aerosols']\r\n",
    "X_train2 = train[reduced_features]\r\n",
    "y_train2 = train['Temp']\r\n",
    "\r\n",
    "model2 = sm.OLS(y_train2, sm.add_constant(X_train2)).fit()\r\n",
    "print(model2.summary())"
   ],
   "outputs": [
    {
     "output_type": "stream",
     "name": "stdout",
     "text": [
      "                            OLS Regression Results                            \n",
      "==============================================================================\n",
      "Dep. Variable:                   Temp   R-squared:                       0.726\n",
      "Model:                            OLS   Adj. R-squared:                  0.722\n",
      "Method:                 Least Squares   F-statistic:                     184.9\n",
      "Date:                Sat, 14 Aug 2021   Prob (F-statistic):           3.52e-77\n",
      "Time:                        22:12:19   Log-Likelihood:                 266.64\n",
      "No. Observations:                 284   AIC:                            -523.3\n",
      "Df Residuals:                     279   BIC:                            -505.0\n",
      "Df Model:                           4                                         \n",
      "Covariance Type:            nonrobust                                         \n",
      "==============================================================================\n",
      "                 coef    std err          t      P>|t|      [0.025      0.975]\n",
      "------------------------------------------------------------------------------\n",
      "const       -116.2269     20.223     -5.747      0.000    -156.036     -76.418\n",
      "MEI            0.0642      0.007      9.649      0.000       0.051       0.077\n",
      "N2O            0.0253      0.001     19.307      0.000       0.023       0.028\n",
      "TSI            0.0795      0.015      5.344      0.000       0.050       0.109\n",
      "Aerosols      -1.7017      0.218     -7.806      0.000      -2.131      -1.273\n",
      "==============================================================================\n",
      "Omnibus:                       10.908   Durbin-Watson:                   0.842\n",
      "Prob(Omnibus):                  0.004   Jarque-Bera (JB):               15.097\n",
      "Skew:                           0.289   Prob(JB):                     0.000527\n",
      "Kurtosis:                       3.971   Cond. No.                     5.00e+06\n",
      "==============================================================================\n",
      "\n",
      "Notes:\n",
      "[1] Standard Errors assume that the covariance matrix of the errors is correctly specified.\n",
      "[2] The condition number is large,  5e+06. This might indicate that there are\n",
      "strong multicollinearity or other numerical problems.\n"
     ]
    }
   ],
   "metadata": {}
  },
  {
   "cell_type": "markdown",
   "source": [
    "Enter the model R2:\r\n",
    "- 0.726\r\n",
    "\r\n",
    "## Problem 4 - Automatically Building the Model\r\n"
   ],
   "metadata": {}
  },
  {
   "cell_type": "code",
   "execution_count": 8,
   "source": [
    "x_columns = list(X_train.columns)\r\n",
    "\r\n",
    "def refine_model():\r\n",
    "    X = train[x_columns]\r\n",
    "    y = train['Temp']\r\n",
    "    refined = sm.OLS(y, sm.add_constant(X)).fit()\r\n",
    "    print(refined.summary())"
   ],
   "outputs": [],
   "metadata": {}
  },
  {
   "cell_type": "code",
   "execution_count": 9,
   "source": [
    "refine_model()"
   ],
   "outputs": [
    {
     "output_type": "stream",
     "name": "stdout",
     "text": [
      "                            OLS Regression Results                            \n",
      "==============================================================================\n",
      "Dep. Variable:                   Temp   R-squared:                       0.751\n",
      "Model:                            OLS   Adj. R-squared:                  0.744\n",
      "Method:                 Least Squares   F-statistic:                     103.6\n",
      "Date:                Sat, 14 Aug 2021   Prob (F-statistic):           1.94e-78\n",
      "Time:                        22:12:19   Log-Likelihood:                 280.10\n",
      "No. Observations:                 284   AIC:                            -542.2\n",
      "Df Residuals:                     275   BIC:                            -509.4\n",
      "Df Model:                           8                                         \n",
      "Covariance Type:            nonrobust                                         \n",
      "==============================================================================\n",
      "                 coef    std err          t      P>|t|      [0.025      0.975]\n",
      "------------------------------------------------------------------------------\n",
      "const       -124.5943     19.887     -6.265      0.000    -163.744     -85.445\n",
      "MEI            0.0642      0.006      9.923      0.000       0.051       0.077\n",
      "CO2            0.0065      0.002      2.826      0.005       0.002       0.011\n",
      "CH4            0.0001      0.001      0.240      0.810      -0.001       0.001\n",
      "N2O           -0.0165      0.009     -1.930      0.055      -0.033       0.000\n",
      "CFC-11        -0.0066      0.002     -4.078      0.000      -0.010      -0.003\n",
      "CFC-12         0.0038      0.001      3.757      0.000       0.002       0.006\n",
      "TSI            0.0931      0.015      6.313      0.000       0.064       0.122\n",
      "Aerosols      -1.5376      0.213     -7.210      0.000      -1.957      -1.118\n",
      "==============================================================================\n",
      "Omnibus:                        8.740   Durbin-Watson:                   0.956\n",
      "Prob(Omnibus):                  0.013   Jarque-Bera (JB):               10.327\n",
      "Skew:                           0.289   Prob(JB):                      0.00572\n",
      "Kurtosis:                       3.733   Cond. No.                     8.53e+06\n",
      "==============================================================================\n",
      "\n",
      "Notes:\n",
      "[1] Standard Errors assume that the covariance matrix of the errors is correctly specified.\n",
      "[2] The condition number is large, 8.53e+06. This might indicate that there are\n",
      "strong multicollinearity or other numerical problems.\n"
     ]
    }
   ],
   "metadata": {}
  },
  {
   "cell_type": "code",
   "execution_count": 10,
   "source": [
    "x_columns.remove('CH4')\r\n",
    "refine_model()"
   ],
   "outputs": [
    {
     "output_type": "stream",
     "name": "stdout",
     "text": [
      "                            OLS Regression Results                            \n",
      "==============================================================================\n",
      "Dep. Variable:                   Temp   R-squared:                       0.751\n",
      "Model:                            OLS   Adj. R-squared:                  0.745\n",
      "Method:                 Least Squares   F-statistic:                     118.8\n",
      "Date:                Sat, 14 Aug 2021   Prob (F-statistic):           1.77e-79\n",
      "Time:                        22:12:19   Log-Likelihood:                 280.07\n",
      "No. Observations:                 284   AIC:                            -544.1\n",
      "Df Residuals:                     276   BIC:                            -515.0\n",
      "Df Model:                           7                                         \n",
      "Covariance Type:            nonrobust                                         \n",
      "==============================================================================\n",
      "                 coef    std err          t      P>|t|      [0.025      0.975]\n",
      "------------------------------------------------------------------------------\n",
      "const       -124.5152     19.850     -6.273      0.000    -163.592     -85.438\n",
      "MEI            0.0641      0.006      9.958      0.000       0.051       0.077\n",
      "CO2            0.0064      0.002      2.821      0.005       0.002       0.011\n",
      "N2O           -0.0160      0.008     -1.933      0.054      -0.032       0.000\n",
      "CFC-11        -0.0066      0.002     -4.078      0.000      -0.010      -0.003\n",
      "CFC-12         0.0039      0.001      3.942      0.000       0.002       0.006\n",
      "TSI            0.0931      0.015      6.322      0.000       0.064       0.122\n",
      "Aerosols      -1.5402      0.213     -7.244      0.000      -1.959      -1.122\n",
      "==============================================================================\n",
      "Omnibus:                        8.543   Durbin-Watson:                   0.952\n",
      "Prob(Omnibus):                  0.014   Jarque-Bera (JB):                9.913\n",
      "Skew:                           0.291   Prob(JB):                      0.00704\n",
      "Kurtosis:                       3.707   Cond. No.                     5.66e+06\n",
      "==============================================================================\n",
      "\n",
      "Notes:\n",
      "[1] Standard Errors assume that the covariance matrix of the errors is correctly specified.\n",
      "[2] The condition number is large, 5.66e+06. This might indicate that there are\n",
      "strong multicollinearity or other numerical problems.\n"
     ]
    }
   ],
   "metadata": {}
  },
  {
   "cell_type": "markdown",
   "source": [
    "## Problem 5 - Testing on Unseen Data\r\n",
    "We have developed an understanding of how well we can fit a linear regression to the training data, but does the model quality hold when applied to unseen data?\r\n",
    "\r\n",
    "Using the model produced from the step function, calculate temperature predictions for the testing data set, using the predict function.\r\n",
    "\r\n",
    "Enter the testing set R2:\r\n",
    "- a"
   ],
   "metadata": {}
  },
  {
   "cell_type": "code",
   "execution_count": 11,
   "source": [
    "X = train[x_columns]\r\n",
    "y = train['Temp']\r\n",
    "refined = sm.OLS(y, sm.add_constant(X)).fit()\r\n",
    "\r\n",
    "y_pred = refined.predict(sm.add_constant(test[x_columns]))\r\n",
    "residuals = test['Temp'] - y_pred\r\n",
    "sse = (residuals**2).sum()\r\n",
    "sst = ((test['Temp'] - train['Temp'].mean())**2).sum()\r\n",
    "r2_value = (1 - sse / sst).round(3)\r\n",
    "print(f\"R2 score for test set: {r2_value}\")"
   ],
   "outputs": [
    {
     "output_type": "stream",
     "name": "stdout",
     "text": [
      "R2 score for test set: 0.629\n"
     ]
    }
   ],
   "metadata": {}
  }
 ],
 "metadata": {
  "orig_nbformat": 4,
  "language_info": {
   "name": "python",
   "version": "3.9.6",
   "mimetype": "text/x-python",
   "codemirror_mode": {
    "name": "ipython",
    "version": 3
   },
   "pygments_lexer": "ipython3",
   "nbconvert_exporter": "python",
   "file_extension": ".py"
  },
  "kernelspec": {
   "name": "python3",
   "display_name": "Python 3.9.6 64-bit"
  },
  "interpreter": {
   "hash": "9e6fe232ec1802e04813a62eadbd4a033db6fcefdd78d84705bbb38e45fcef4a"
  }
 },
 "nbformat": 4,
 "nbformat_minor": 2
}