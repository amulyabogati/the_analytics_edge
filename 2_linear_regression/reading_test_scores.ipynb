{
 "cells": [
  {
   "cell_type": "markdown",
   "source": [
    "# Reading Test Scores\r\n",
    "\r\n",
    "## Problem 1.1 - Dataset size\r\n",
    "Load the training and testing sets, and save them as variables with the names pisa_train and pisa_test."
   ],
   "metadata": {}
  },
  {
   "cell_type": "code",
   "execution_count": 1,
   "source": [
    "import pandas as pd\r\n",
    "import numpy as np\r\n",
    "\r\n",
    "import statsmodels.api as sm\r\n",
    "\r\n",
    "import warnings\r\n",
    "warnings.simplefilter(action='ignore', category=FutureWarning)"
   ],
   "outputs": [],
   "metadata": {}
  },
  {
   "cell_type": "code",
   "execution_count": 2,
   "source": [
    "pisa_train = pd.read_csv('../data/pisa2009train.csv')\r\n",
    "pisa_test = pd.read_csv('../data/pisa2009test.csv')"
   ],
   "outputs": [],
   "metadata": {}
  },
  {
   "cell_type": "markdown",
   "source": [
    "How many students are there in the training set?"
   ],
   "metadata": {}
  },
  {
   "cell_type": "code",
   "execution_count": 3,
   "source": [
    "pisa_train.shape[0]"
   ],
   "outputs": [
    {
     "output_type": "execute_result",
     "data": {
      "text/plain": [
       "3663"
      ]
     },
     "metadata": {},
     "execution_count": 3
    }
   ],
   "metadata": {}
  },
  {
   "cell_type": "markdown",
   "source": [
    "## Problem 1.2 - Summarizing the dataset\r\n",
    "What is the average reading test score of males?"
   ],
   "metadata": {}
  },
  {
   "cell_type": "code",
   "execution_count": 4,
   "source": [
    "pisa_train[pisa_train['male']==1]['readingScore'].mean()"
   ],
   "outputs": [
    {
     "output_type": "execute_result",
     "data": {
      "text/plain": [
       "483.53247863247867"
      ]
     },
     "metadata": {},
     "execution_count": 4
    }
   ],
   "metadata": {}
  },
  {
   "cell_type": "markdown",
   "source": [
    "Of females?"
   ],
   "metadata": {}
  },
  {
   "cell_type": "code",
   "execution_count": 5,
   "source": [
    "pisa_train[pisa_train['male']==0]['readingScore'].mean()"
   ],
   "outputs": [
    {
     "output_type": "execute_result",
     "data": {
      "text/plain": [
       "512.94063093244"
      ]
     },
     "metadata": {},
     "execution_count": 5
    }
   ],
   "metadata": {}
  },
  {
   "cell_type": "markdown",
   "source": [
    "## Problem 1.3 - Locating missing values\r\n",
    "Which variables are missing data in at least one observation in the training set? *Select all that apply*.\r\n",
    "- raceeth\r\n",
    "- preschool\r\n",
    "- expectBachelors\r\n",
    "- motherHS\r\n",
    "- motherBachelors\r\n",
    "- motherWork\r\n",
    "- fatherHS\r\n",
    "- fatherBachelors\r\n",
    "- fatherWork\r\n",
    "- selfBornUS\r\n",
    "- motherBornUS\r\n",
    "- fatherBornUS\r\n",
    "- englishAtHome\r\n",
    "- computerForSchoolWork\r\n",
    "- read30MinsADay\r\n",
    "- minutesPerWeekEnglish\r\n",
    "- studentsInEnglish\r\n",
    "- schoolHasLibrary\r\n",
    "- schoolSize"
   ],
   "metadata": {}
  },
  {
   "cell_type": "code",
   "execution_count": 6,
   "source": [
    "pisa_train.isnull().sum()"
   ],
   "outputs": [
    {
     "output_type": "execute_result",
     "data": {
      "text/plain": [
       "grade                      0\n",
       "male                       0\n",
       "raceeth                   35\n",
       "preschool                 56\n",
       "expectBachelors           62\n",
       "motherHS                  97\n",
       "motherBachelors          397\n",
       "motherWork                93\n",
       "fatherHS                 245\n",
       "fatherBachelors          569\n",
       "fatherWork               233\n",
       "selfBornUS                69\n",
       "motherBornUS              71\n",
       "fatherBornUS             113\n",
       "englishAtHome             71\n",
       "computerForSchoolwork     65\n",
       "read30MinsADay            34\n",
       "minutesPerWeekEnglish    186\n",
       "studentsInEnglish        249\n",
       "schoolHasLibrary         143\n",
       "publicSchool               0\n",
       "urban                      0\n",
       "schoolSize               162\n",
       "readingScore               0\n",
       "dtype: int64"
      ]
     },
     "metadata": {},
     "execution_count": 6
    }
   ],
   "metadata": {}
  },
  {
   "cell_type": "markdown",
   "source": [
    "## Problem 1.4 - Removing missing values\r\n",
    "Linear regression discards observations with missing data, so we will remove all such observations from the training and testing sets. Later in the course, we will learn about imputation, which deals with missing data by filling in missing values with plausible information.\r\n",
    "\r\n",
    "Remove observations with any missing value from pisa_train and pisa_test.\r\n",
    "\r\n",
    "How many observations are now in the training set?\r\n",
    "- \r\n",
    "\r\n",
    "How many observations are now in the testing set?\r\n",
    "- "
   ],
   "metadata": {}
  },
  {
   "cell_type": "code",
   "execution_count": 7,
   "source": [
    "pisa_train.dropna(inplace=True)\r\n",
    "pisa_test.dropna(inplace=True)\r\n",
    "\r\n",
    "print(\"Train set:\", pisa_train.shape[0])\r\n",
    "print(\"Test set:\", pisa_test.shape[0])"
   ],
   "outputs": [
    {
     "output_type": "stream",
     "name": "stdout",
     "text": [
      "Train set: 2414\n",
      "Test set: 990\n"
     ]
    }
   ],
   "metadata": {}
  },
  {
   "cell_type": "markdown",
   "source": [
    "## Problem 2.1 - Factor variables\r\n",
    "Which of the following variables is an unordered factor with at least 3 levels? *Select all that apply*.\r\n",
    "- raceeth\r\n",
    "\r\n",
    "Which of the following variables is an ordered factor with at least 3 levels? *Select all that apply*.\r\n",
    "- grade"
   ],
   "metadata": {}
  },
  {
   "cell_type": "code",
   "execution_count": 8,
   "source": [
    "for col in ['grade', 'male', 'raceeth']:\r\n",
    "    print(pisa_train[col].unique())"
   ],
   "outputs": [
    {
     "output_type": "stream",
     "name": "stdout",
     "text": [
      "[11 10  9 12  8]\n",
      "[1 0]\n",
      "['White' 'Black' 'Hispanic' 'More than one race'\n",
      " 'American Indian/Alaska Native' 'Asian'\n",
      " 'Native Hawaiian/Other Pacific Islander']\n"
     ]
    }
   ],
   "metadata": {}
  },
  {
   "cell_type": "markdown",
   "source": [
    "## Problem 2.2 - Unordered factors in regression models\r\n",
    "To include unordered factors in a linear regression model, we define one level as the \"reference level\" and add a binary variable for each of the remaining levels. In this way, a factor with n levels is replaced by n-1 binary variables. The reference level is typically selected to be the most frequently occurring level in the dataset.\r\n",
    "\r\n",
    "As an example, consider the unordered factor variable \"color\", with levels \"red\", \"green\", and \"blue\". If \"green\" were the reference level, then we would add binary variables \"colorred\" and \"colorblue\" to a linear regression problem. All red examples would have colorred=1 and colorblue=0. All blue examples would have colorred=0 and colorblue=1. All green examples would have colorred=0 and colorblue=0.\r\n",
    "\r\n",
    "Now, consider the variable \"raceeth\" in our problem, which has levels \"American Indian/Alaska Native\", \"Asian\", \"Black\", \"Hispanic\", \"More than one race\", \"Native Hawaiian/Other Pacific Islander\", and \"White\". Because it is the most common in our population, we will select White as the reference level.\r\n",
    "\r\n",
    "Which binary variables will be included in the regression model? *Select all that apply*.\r\n",
    "- raceethAmerican Indian/Alaska Native\r\n",
    "- raceethAsian\r\n",
    "- raceethBlack\r\n",
    "- raceethHispanic\r\n",
    "- raceethMore than one race\r\n",
    "- raceethNative Hawaiian/Other Pacific Islander\r\n",
    "\r\n",
    "## Problem 2.3 - Example unordered factors\r\n",
    "Consider again adding our unordered factor race to the regression model with reference level \"White\".\r\n",
    "\r\n",
    "For a student who is Asian, which binary variables would be set to 0? All remaining variables will be set to 1. *Select all that apply*.\r\n",
    "- raceethAmerican Indian/Alaska Native\r\n",
    "- raceethBlack\r\n",
    "- raceethHispanic\r\n",
    "- raceethMore than one race\r\n",
    "- raceethNative Hawaiian/Other Pacific Islander\r\n",
    "\r\n",
    "For a student who is white, which binary variables would be set to 0? All remaining variables will be set to 1. *Select all that apply*.\r\n",
    "- raceethAmerican Indian/Alaska Native\r\n",
    "- raceethAsian\r\n",
    "- raceethBlack\r\n",
    "- raceethHispanic\r\n",
    "- raceethMore than one race\r\n",
    "- raceethNative Hawaiian/Other Pacific Islander\r\n",
    "\r\n",
    "## Problem 3.1 - Building a model\r\n",
    "Now, build a linear regression model (call it lm_score) using the training set to predict readingScore using all the remaining variables.\r\n",
    "\r\n",
    "What is the Multiple R-squared value of lm_score on the training set?\r\n",
    "- 0.325"
   ],
   "metadata": {}
  },
  {
   "cell_type": "code",
   "execution_count": 9,
   "source": [
    "raceeth_train = pd.get_dummies(pisa_train['raceeth'], prefix='raceeth')\r\n",
    "pisa_train = pd.merge(pisa_train, raceeth_train, how='left', left_index=True, right_index=True)\r\n",
    "raceeth_test = pd.get_dummies(pisa_test['raceeth'], prefix='raceeth')\r\n",
    "pisa_test = pd.merge(pisa_test, raceeth_test, how='left', left_index=True, right_index=True)\r\n",
    "\r\n",
    "features = [\r\n",
    "    'grade', 'male', 'preschool', 'expectBachelors', \r\n",
    "    'motherHS', 'motherBachelors', 'motherWork', \r\n",
    "    'fatherHS', 'fatherBachelors', 'fatherWork', \r\n",
    "    'selfBornUS', 'motherBornUS', 'fatherBornUS',\r\n",
    "    'englishAtHome', 'computerForSchoolwork', 'read30MinsADay',\r\n",
    "    'minutesPerWeekEnglish', 'studentsInEnglish', 'schoolHasLibrary',\r\n",
    "    'publicSchool', 'urban', 'schoolSize',\r\n",
    "    'raceeth_American Indian/Alaska Native', 'raceeth_Asian',\r\n",
    "    'raceeth_Black', 'raceeth_Hispanic', 'raceeth_More than one race',\r\n",
    "    'raceeth_Native Hawaiian/Other Pacific Islander'\r\n",
    "]\r\n",
    "X_train = pisa_train[features]\r\n",
    "y_train = pisa_train['readingScore']\r\n",
    "\r\n",
    "lm_score = sm.OLS(y_train, sm.add_constant(X_train)).fit()\r\n",
    "print(lm_score.summary())"
   ],
   "outputs": [
    {
     "output_type": "stream",
     "name": "stdout",
     "text": [
      "                            OLS Regression Results                            \n",
      "==============================================================================\n",
      "Dep. Variable:           readingScore   R-squared:                       0.325\n",
      "Model:                            OLS   Adj. R-squared:                  0.317\n",
      "Method:                 Least Squares   F-statistic:                     41.04\n",
      "Date:                Sun, 15 Aug 2021   Prob (F-statistic):          1.72e-180\n",
      "Time:                        08:16:24   Log-Likelihood:                -13795.\n",
      "No. Observations:                2414   AIC:                         2.765e+04\n",
      "Df Residuals:                    2385   BIC:                         2.781e+04\n",
      "Df Model:                          28                                         \n",
      "Covariance Type:            nonrobust                                         \n",
      "==================================================================================================================\n",
      "                                                     coef    std err          t      P>|t|      [0.025      0.975]\n",
      "------------------------------------------------------------------------------------------------------------------\n",
      "const                                            143.7663     33.841      4.248      0.000      77.405     210.128\n",
      "grade                                             29.5427      2.937     10.057      0.000      23.783      35.303\n",
      "male                                             -14.5217      3.156     -4.601      0.000     -20.710      -8.333\n",
      "preschool                                         -4.4637      3.486     -1.280      0.201     -11.300       2.372\n",
      "expectBachelors                                   55.2671      4.294     12.871      0.000      46.847      63.687\n",
      "motherHS                                           6.0588      6.091      0.995      0.320      -5.886      18.004\n",
      "motherBachelors                                   12.6381      3.861      3.273      0.001       5.066      20.210\n",
      "motherWork                                        -2.8091      3.522     -0.798      0.425      -9.715       4.097\n",
      "fatherHS                                           4.0182      5.579      0.720      0.471      -6.923      14.959\n",
      "fatherBachelors                                   16.9298      3.995      4.237      0.000       9.095      24.764\n",
      "fatherWork                                         5.8428      4.396      1.329      0.184      -2.778      14.463\n",
      "selfBornUS                                        -3.8063      7.324     -0.520      0.603     -18.168      10.555\n",
      "motherBornUS                                      -8.7982      6.588     -1.336      0.182     -21.716       4.120\n",
      "fatherBornUS                                       4.3070      6.264      0.688      0.492      -7.976      16.590\n",
      "englishAtHome                                      8.0357      6.859      1.171      0.242      -5.415      21.487\n",
      "computerForSchoolwork                             22.5002      5.703      3.946      0.000      11.318      33.683\n",
      "read30MinsADay                                    34.8719      3.408     10.231      0.000      28.188      41.556\n",
      "minutesPerWeekEnglish                              0.0128      0.011      1.194      0.233      -0.008       0.034\n",
      "studentsInEnglish                                 -0.2866      0.228     -1.258      0.208      -0.733       0.160\n",
      "schoolHasLibrary                                  12.2151      9.265      1.318      0.187      -5.953      30.383\n",
      "publicSchool                                     -16.8575      6.726     -2.506      0.012     -30.046      -3.669\n",
      "urban                                             -0.1101      3.963     -0.028      0.978      -7.881       7.661\n",
      "schoolSize                                         0.0065      0.002      2.977      0.003       0.002       0.011\n",
      "raceeth_American Indian/Alaska Native            -67.2773     16.787     -4.008      0.000    -100.196     -34.359\n",
      "raceeth_Asian                                     -4.1103      9.220     -0.446      0.656     -22.191      13.970\n",
      "raceeth_Black                                    -67.0123      5.461    -12.271      0.000     -77.721     -56.304\n",
      "raceeth_Hispanic                                 -38.9755      5.178     -7.528      0.000     -49.129     -28.822\n",
      "raceeth_More than one race                       -16.9225      8.496     -1.992      0.047     -33.583      -0.262\n",
      "raceeth_Native Hawaiian/Other Pacific Islander    -5.1016     17.006     -0.300      0.764     -38.449      28.246\n",
      "==============================================================================\n",
      "Omnibus:                        8.273   Durbin-Watson:                   1.998\n",
      "Prob(Omnibus):                  0.016   Jarque-Bera (JB):                8.362\n",
      "Skew:                          -0.141   Prob(JB):                       0.0153\n",
      "Kurtosis:                       2.943   Cond. No.                     3.70e+04\n",
      "==============================================================================\n",
      "\n",
      "Notes:\n",
      "[1] Standard Errors assume that the covariance matrix of the errors is correctly specified.\n",
      "[2] The condition number is large, 3.7e+04. This might indicate that there are\n",
      "strong multicollinearity or other numerical problems.\n"
     ]
    }
   ],
   "metadata": {}
  },
  {
   "cell_type": "markdown",
   "source": [
    "### Problem 3.2 - Computing the root-mean squared error of the model\r\n",
    "What is the training-set root-mean squared error (RMSE) of lm_score?"
   ],
   "metadata": {}
  },
  {
   "cell_type": "code",
   "execution_count": 10,
   "source": [
    "train_y_pred = lm_score.predict(sm.add_constant(X_train))\r\n",
    "train_residue = y_train - train_y_pred\r\n",
    "train_sse = (train_residue**2).sum()\r\n",
    "\r\n",
    "rmse_train = np.sqrt(train_sse / X_train.shape[0]).round(3)\r\n",
    "print(\"RMSE for train set\", rmse_train)"
   ],
   "outputs": [
    {
     "output_type": "stream",
     "name": "stdout",
     "text": [
      "RMSE for train set 73.366\n"
     ]
    }
   ],
   "metadata": {}
  },
  {
   "cell_type": "markdown",
   "source": [
    "## Problem 3.3 - Comparing predictions for similar students\r\n",
    "Consider two students A and B. They have all variable values the same, except that student A is in grade 11 and student B is in grade 9. What is the predicted reading score of student A minus the predicted reading score of student B?\r\n",
    "- 59.09 *(2 * coefficient for grade)*\r\n",
    "\r\n",
    "## Problem 3.4 - Interpreting model coefficients\r\n",
    "What is the meaning of the coefficient associated with variable raceethAsian?\r\n",
    "- Predicted difference in the reading score between an Asian student and a white student who is otherwise identical.\r\n",
    "\r\n",
    "## Problem 3.5 - Identifying variables lacking statistical significance\r\n",
    "Based on the significance codes, which variables are candidates for removal from the model? *Select all that apply*. (We'll assume that the factor variable raceeth should only be removed if none of its levels are significant.)\r\n",
    "- preschool\r\n",
    "- motherHS\r\n",
    "- motherWork\r\n",
    "- fatherHS\r\n",
    "- fatherWork\r\n",
    "- selfBornUS\r\n",
    "- motherBornUS\r\n",
    "- fatherBornUS\r\n",
    "- englishAtHome\r\n",
    "- minutesPerWeekEnglish\r\n",
    "- studentsInEnglish\r\n",
    "- schoolHasLibrary\r\n",
    "- urban\r\n",
    "\r\n",
    "## Problem 4.1 - Predicting on unseen data\r\n",
    "Use the lm_score model to predict the reading scores of students in pisa_t\r\n",
    "est. Call this vector of predictions \"pred_test\". Do not change the variables in the model (for example, do not remove variables that we found were not significant in the previous part of this problem). Use the summary function to describe the test set predictions.\r\n",
    "\r\n",
    "What is the range between the maximum and minimum predicted reading score on the test set?"
   ],
   "metadata": {}
  },
  {
   "cell_type": "code",
   "execution_count": 11,
   "source": [
    "X_test = pisa_test[features]\r\n",
    "y_test = pisa_test['readingScore']\r\n",
    "\r\n",
    "pred_test = lm_score.predict(sm.add_constant(X_test))\r\n",
    "pred_min = pred_test.min().round(3)\r\n",
    "pred_max = pred_test.max().round(3)\r\n",
    "\r\n",
    "print(f\"Range: {pred_max - pred_min}\")"
   ],
   "outputs": [
    {
     "output_type": "stream",
     "name": "stdout",
     "text": [
      "Range: 284.468\n"
     ]
    }
   ],
   "metadata": {}
  },
  {
   "cell_type": "markdown",
   "source": [
    "## Problem 4.2 - Test set SSE and RMSE\r\n",
    "What is the sum of squared errors (SSE) of lm_score on the testing set?\r\n",
    "\r\n",
    "What is the root-mean squared error (RMSE) of lm_score on the testing set?\r\n"
   ],
   "metadata": {}
  },
  {
   "cell_type": "code",
   "execution_count": 12,
   "source": [
    "test_residue = y_test - pred_test\r\n",
    "test_sse = (test_residue**2).sum().round(3)\r\n",
    "test_rmse = np.sqrt(test_sse / pisa_test.shape[0]).round(3)\r\n",
    "\r\n",
    "print(f\"Test SSEL: {test_sse}\\nTest RMSE: {test_rmse}\")"
   ],
   "outputs": [
    {
     "output_type": "stream",
     "name": "stdout",
     "text": [
      "Test SSEL: 5762082.371\n",
      "Test RMSE: 76.291\n"
     ]
    }
   ],
   "metadata": {}
  },
  {
   "cell_type": "markdown",
   "source": [
    "## Problem 4.3 - Baseline prediction and test-set SSE\r\n",
    "What is the predicted test score used in the baseline model? Remember to compute this value using the training set and not the test set.\r\n",
    "- 517.963\r\n",
    "\r\n",
    "What is the sum of squared errors of the baseline model on the testing set? *HINT: We call the sum of squared errors for the baseline model the total sum of squares (SST)*.\r\n",
    "- 7802354.078"
   ],
   "metadata": {}
  },
  {
   "cell_type": "code",
   "execution_count": 13,
   "source": [
    "mean_score = pisa_train['readingScore'].mean().round(3)\r\n",
    "\r\n",
    "baseline_residue = y_test - y_train.mean()\r\n",
    "sst = (baseline_residue**2).sum().round(3)\r\n",
    "\r\n",
    "print(f\"Baseline score: {mean_score}\\nSST: {sst}\")"
   ],
   "outputs": [
    {
     "output_type": "stream",
     "name": "stdout",
     "text": [
      "Baseline score: 517.963\n",
      "SST: 7802354.078\n"
     ]
    }
   ],
   "metadata": {}
  },
  {
   "cell_type": "markdown",
   "source": [
    "## Problem 4.4 - Test-set R-squared\r\n",
    "What is the test-set R-squared value of lm_score?\r\n"
   ],
   "metadata": {}
  },
  {
   "cell_type": "code",
   "execution_count": 14,
   "source": [
    "test_r2 = (1 - test_sse / sst).round(3)\r\n",
    "print(\"Test R2:\", test_r2)"
   ],
   "outputs": [
    {
     "output_type": "stream",
     "name": "stdout",
     "text": [
      "Test R2: 0.261\n"
     ]
    }
   ],
   "metadata": {}
  }
 ],
 "metadata": {
  "orig_nbformat": 4,
  "language_info": {
   "name": "python",
   "version": "3.9.6",
   "mimetype": "text/x-python",
   "codemirror_mode": {
    "name": "ipython",
    "version": 3
   },
   "pygments_lexer": "ipython3",
   "nbconvert_exporter": "python",
   "file_extension": ".py"
  },
  "kernelspec": {
   "name": "python3",
   "display_name": "Python 3.9.6 64-bit"
  },
  "interpreter": {
   "hash": "9e6fe232ec1802e04813a62eadbd4a033db6fcefdd78d84705bbb38e45fcef4a"
  }
 },
 "nbformat": 4,
 "nbformat_minor": 2
}