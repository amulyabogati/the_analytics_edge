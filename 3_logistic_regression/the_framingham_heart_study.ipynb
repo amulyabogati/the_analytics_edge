{
 "cells": [
  {
   "cell_type": "code",
   "execution_count": 1,
   "source": [
    "# import library.\r\n",
    "import pandas as pd\r\n",
    "import matplotlib.pyplot as plt\r\n",
    "\r\n",
    "import statsmodels.api as sm\r\n",
    "from sklearn.model_selection import train_test_split\r\n",
    "from sklearn import metrics\r\n",
    "\r\n",
    "import warnings\r\n",
    "warnings.simplefilter(action='ignore', category=FutureWarning)"
   ],
   "outputs": [],
   "metadata": {}
  },
  {
   "cell_type": "code",
   "execution_count": 2,
   "source": [
    "# import dataset.\r\n",
    "framingham = pd.read_csv('../data/framingham.csv')\r\n",
    "framingham.info()"
   ],
   "outputs": [
    {
     "output_type": "stream",
     "name": "stdout",
     "text": [
      "<class 'pandas.core.frame.DataFrame'>\n",
      "RangeIndex: 4240 entries, 0 to 4239\n",
      "Data columns (total 16 columns):\n",
      " #   Column           Non-Null Count  Dtype  \n",
      "---  ------           --------------  -----  \n",
      " 0   male             4240 non-null   int64  \n",
      " 1   age              4240 non-null   int64  \n",
      " 2   education        4135 non-null   float64\n",
      " 3   currentSmoker    4240 non-null   int64  \n",
      " 4   cigsPerDay       4211 non-null   float64\n",
      " 5   BPMeds           4187 non-null   float64\n",
      " 6   prevalentStroke  4240 non-null   int64  \n",
      " 7   prevalentHyp     4240 non-null   int64  \n",
      " 8   diabetes         4240 non-null   int64  \n",
      " 9   totChol          4190 non-null   float64\n",
      " 10  sysBP            4240 non-null   float64\n",
      " 11  diaBP            4240 non-null   float64\n",
      " 12  BMI              4221 non-null   float64\n",
      " 13  heartRate        4239 non-null   float64\n",
      " 14  glucose          3852 non-null   float64\n",
      " 15  TenYearCHD       4240 non-null   int64  \n",
      "dtypes: float64(9), int64(7)\n",
      "memory usage: 530.1 KB\n"
     ]
    }
   ],
   "metadata": {}
  },
  {
   "cell_type": "code",
   "execution_count": 3,
   "source": [
    "# split features and target.\r\n",
    "framingham_demo = framingham.dropna()\r\n",
    "X = framingham_demo.iloc[:, :-1].copy()\r\n",
    "y = framingham_demo['TenYearCHD'].copy()\r\n",
    "\r\n",
    "X_train, X_test, y_train, y_test = train_test_split(X, y, train_size=0.35, random_state=1)"
   ],
   "outputs": [],
   "metadata": {}
  },
  {
   "cell_type": "code",
   "execution_count": 4,
   "source": [
    "# train model.\r\n",
    "framingham_log = sm.Logit(y_train, sm.add_constant(X_train)).fit()\r\n",
    "print(framingham_log.summary())"
   ],
   "outputs": [
    {
     "output_type": "stream",
     "name": "stdout",
     "text": [
      "Optimization terminated successfully.\n",
      "         Current function value: 0.387083\n",
      "         Iterations 7\n",
      "                           Logit Regression Results                           \n",
      "==============================================================================\n",
      "Dep. Variable:             TenYearCHD   No. Observations:                 1280\n",
      "Model:                          Logit   Df Residuals:                     1264\n",
      "Method:                           MLE   Df Model:                           15\n",
      "Date:                Thu, 19 Aug 2021   Pseudo R-squ.:                  0.1278\n",
      "Time:                        20:32:59   Log-Likelihood:                -495.47\n",
      "converged:                       True   LL-Null:                       -568.05\n",
      "Covariance Type:            nonrobust   LLR p-value:                 2.183e-23\n",
      "===================================================================================\n",
      "                      coef    std err          z      P>|z|      [0.025      0.975]\n",
      "-----------------------------------------------------------------------------------\n",
      "const              -9.7122      1.209     -8.033      0.000     -12.082      -7.342\n",
      "male                0.5771      0.182      3.180      0.001       0.221       0.933\n",
      "age                 0.0626      0.011      5.629      0.000       0.041       0.084\n",
      "education           0.0098      0.080      0.122      0.903      -0.147       0.167\n",
      "currentSmoker       0.0458      0.270      0.170      0.865      -0.483       0.575\n",
      "cigsPerDay          0.0223      0.011      2.030      0.042       0.001       0.044\n",
      "BPMeds              0.1915      0.363      0.528      0.597      -0.519       0.902\n",
      "prevalentStroke     0.9478      0.982      0.966      0.334      -0.976       2.872\n",
      "prevalentHyp       -0.0463      0.232     -0.199      0.842      -0.502       0.409\n",
      "diabetes            0.3308      0.482      0.686      0.493      -0.615       1.276\n",
      "totChol             0.0052      0.002      2.803      0.005       0.002       0.009\n",
      "sysBP               0.0166      0.007      2.552      0.011       0.004       0.029\n",
      "diaBP               0.0022      0.011      0.196      0.845      -0.019       0.024\n",
      "BMI                 0.0236      0.021      1.129      0.259      -0.017       0.064\n",
      "heartRate          -0.0074      0.007     -1.066      0.286      -0.021       0.006\n",
      "glucose             0.0065      0.004      1.676      0.094      -0.001       0.014\n",
      "===================================================================================\n"
     ]
    }
   ],
   "metadata": {}
  },
  {
   "cell_type": "code",
   "execution_count": 5,
   "source": [
    "# make predictions for test data.\r\n",
    "y_pred = framingham_log.predict(sm.add_constant(X_test))\r\n",
    "print(framingham_log.pred_table())\r\n",
    "\r\n",
    "print(\"Accuracy:\", (2001+34) / (2001+34+323+19))\r\n",
    "print(\"Baseline:\", (2001+19) / (2001+34+323+19))\r\n",
    "\r\n",
    "# auc score.\r\n",
    "fpr, tpr, ths = metrics.roc_curve(y_test, y_pred)\r\n",
    "auc = metrics.auc(fpr, tpr)\r\n",
    "print(auc)"
   ],
   "outputs": [
    {
     "output_type": "stream",
     "name": "stdout",
     "text": [
      "[[1060.   12.]\n",
      " [ 187.   21.]]\n",
      "Accuracy: 0.8561211611274716\n",
      "Baseline: 0.8498106857383256\n",
      "0.7266823042954523\n"
     ]
    }
   ],
   "metadata": {}
  }
 ],
 "metadata": {
  "orig_nbformat": 4,
  "language_info": {
   "name": "python",
   "version": "3.9.6",
   "mimetype": "text/x-python",
   "codemirror_mode": {
    "name": "ipython",
    "version": 3
   },
   "pygments_lexer": "ipython3",
   "nbconvert_exporter": "python",
   "file_extension": ".py"
  },
  "kernelspec": {
   "name": "python3",
   "display_name": "Python 3.9.6 64-bit"
  },
  "interpreter": {
   "hash": "9e6fe232ec1802e04813a62eadbd4a033db6fcefdd78d84705bbb38e45fcef4a"
  }
 },
 "nbformat": 4,
 "nbformat_minor": 2
}