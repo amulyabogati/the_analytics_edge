{
 "cells": [
  {
   "cell_type": "markdown",
   "source": [
    "# Popularity of Music Records"
   ],
   "metadata": {}
  },
  {
   "cell_type": "code",
   "execution_count": 1,
   "source": [
    "import pandas as pd\r\n",
    "\r\n",
    "import statsmodels.api as sm\r\n",
    "\r\n",
    "import warnings\r\n",
    "warnings.simplefilter(action='ignore', category=FutureWarning)"
   ],
   "outputs": [],
   "metadata": {}
  },
  {
   "cell_type": "markdown",
   "source": [
    "## Problem 1.1 - Understanding the Data\r\n",
    "How many observations (songs) are from the year 2010?"
   ],
   "metadata": {}
  },
  {
   "cell_type": "code",
   "execution_count": 2,
   "source": [
    "songs = pd.read_csv('../data/songs.csv')\r\n",
    "songs[songs['year']==2010].shape[0]"
   ],
   "outputs": [
    {
     "output_type": "execute_result",
     "data": {
      "text/plain": [
       "373"
      ]
     },
     "metadata": {},
     "execution_count": 2
    }
   ],
   "metadata": {}
  },
  {
   "cell_type": "markdown",
   "source": [
    "## Problem 1.2 - Understanding the Data\r\n",
    "How many songs does the dataset include for which the artist name is \"Michael Jackson\"?"
   ],
   "metadata": {}
  },
  {
   "cell_type": "code",
   "execution_count": 3,
   "source": [
    "songs[songs['artistname']=='Michael Jackson'].shape[0]"
   ],
   "outputs": [
    {
     "output_type": "execute_result",
     "data": {
      "text/plain": [
       "18"
      ]
     },
     "metadata": {},
     "execution_count": 3
    }
   ],
   "metadata": {}
  },
  {
   "cell_type": "markdown",
   "source": [
    "## Problem 1.3 - Understanding the Data\r\n",
    "Which of these songs by Michael Jackson made it to the Top 10? *Select all that apply*.\r\n",
    "- You Rock My World\r\n",
    "- You Are Not Alone"
   ],
   "metadata": {}
  },
  {
   "cell_type": "code",
   "execution_count": 4,
   "source": [
    "songs[\r\n",
    "    (songs['artistname']=='Michael Jackson')\r\n",
    "    & (songs['Top10']==1)\r\n",
    "]['songtitle']"
   ],
   "outputs": [
    {
     "output_type": "execute_result",
     "data": {
      "text/plain": [
       "4328    You Rock My World\n",
       "6206    You Are Not Alone\n",
       "6209       Black or White\n",
       "6217    Remember the Time\n",
       "6914        In The Closet\n",
       "Name: songtitle, dtype: object"
      ]
     },
     "metadata": {},
     "execution_count": 4
    }
   ],
   "metadata": {}
  },
  {
   "cell_type": "markdown",
   "source": [
    "## Problem 1.4 - Understanding the Data\r\n",
    "The variable corresponding to the estimated time signature (timesignature) is discrete, meaning that it only takes integer values (0, 1, 2, 3, . . . ). What are the values of this variable that occur in our dataset? *Select all that apply*.\r\n",
    "- 0\r\n",
    "- 1\r\n",
    "- 3\r\n",
    "- 4\r\n",
    "- 5\r\n",
    "- 7\r\n",
    "\r\n",
    "Which timesignature value is the most frequent among songs in our dataset?\r\n",
    "- 4"
   ],
   "metadata": {}
  },
  {
   "cell_type": "code",
   "execution_count": 5,
   "source": [
    "songs['timesignature'].value_counts().sort_index()"
   ],
   "outputs": [
    {
     "output_type": "execute_result",
     "data": {
      "text/plain": [
       "0      10\n",
       "1     143\n",
       "3     503\n",
       "4    6787\n",
       "5     112\n",
       "7      19\n",
       "Name: timesignature, dtype: int64"
      ]
     },
     "metadata": {},
     "execution_count": 5
    }
   ],
   "metadata": {}
  },
  {
   "cell_type": "markdown",
   "source": [
    "## Problem 1.5 - Understanding the Data\r\n",
    "Out of all of the songs in our dataset, the song with the highest tempo is one of the following songs. Which one is it?"
   ],
   "metadata": {}
  },
  {
   "cell_type": "code",
   "execution_count": 6,
   "source": [
    "songs[songs['tempo']==songs['tempo'].max()]['songtitle']"
   ],
   "outputs": [
    {
     "output_type": "execute_result",
     "data": {
      "text/plain": [
       "6205    Wanna Be Startin' Somethin'\n",
       "Name: songtitle, dtype: object"
      ]
     },
     "metadata": {},
     "execution_count": 6
    }
   ],
   "metadata": {}
  },
  {
   "cell_type": "markdown",
   "source": [
    "## Problem 2.1 - Creating Our Prediction Model\r\n",
    "We wish to predict whether or not a song will make it to the Top 10. To do this, first split the data into a training set \"SongsTrain\" consisting of all the observations up to and including 2009 song releases, and a testing set \"SongsTest\", consisting of the 2010 song releases.\r\n",
    "\r\n",
    "How many observations (songs) are in the training set?"
   ],
   "metadata": {}
  },
  {
   "cell_type": "code",
   "execution_count": 7,
   "source": [
    "SongsTrain = songs[songs['year']<2010].copy()\r\n",
    "SongsTest = songs[songs['year']>=2010].copy()\r\n",
    "SongsTrain.shape[0]"
   ],
   "outputs": [
    {
     "output_type": "execute_result",
     "data": {
      "text/plain": [
       "7201"
      ]
     },
     "metadata": {},
     "execution_count": 7
    }
   ],
   "metadata": {}
  },
  {
   "cell_type": "markdown",
   "source": [
    "## Problem 2.2 - Creating our Prediction Model\r\n",
    "In this problem, our outcome variable is \"Top10\" - we are trying to predict whether or not a song will make it to the Top 10 of the Billboard Hot 100 Chart. Since the outcome variable is binary, we will build a logistic regression model. We'll start by using all song attributes as our independent variables, which we'll call Model 1.\r\n",
    "\r\n",
    "We will only use the variables in our dataset that describe the numerical attributes of the song in our logistic regression model. So we won't use the variables \"year\", \"songtitle\", \"artistname\", \"songID\" or \"artistID\".\r\n",
    "\r\n",
    "Looking at the summary of your model, what is the value of the Akaike Information Criterion (AIC)?\r\n",
    "- 4827.154102388615"
   ],
   "metadata": {}
  },
  {
   "cell_type": "code",
   "execution_count": 8,
   "source": [
    "features = songs.columns[5:]\r\n",
    "\r\n",
    "X_train1 = SongsTrain[features[:-1]].copy()\r\n",
    "y_train1 = SongsTrain['Top10'].copy()\r\n",
    "X_test1 = SongsTest[features[:-1]].copy()\r\n",
    "y_test1 = SongsTest['Top10'].copy()\r\n",
    "\r\n",
    "SongsLog1 = sm.Logit(y_train1, sm.add_constant(X_train1)).fit()\r\n",
    "print(SongsLog1.aic)"
   ],
   "outputs": [
    {
     "output_type": "stream",
     "name": "stdout",
     "text": [
      "Optimization terminated successfully.\n",
      "         Current function value: 0.330451\n",
      "         Iterations 8\n",
      "4827.154102388615\n"
     ]
    }
   ],
   "metadata": {}
  },
  {
   "cell_type": "markdown",
   "source": [
    "## Problem 2.3 - Creating Our Prediction Model\r\n",
    "Let's now think about the variables in our dataset related to the confidence of the time signature, key and tempo (timesignature_confidence, key_confidence, and tempo_confidence). Our model seems to indicate that these confidence variables are significant (rather than the variables timesignature, key and tempo themselves). What does the model suggest?\r\n",
    "- The higher our confidence about time signature, key and tempo, the more likely the song is to be in the Top 10 "
   ],
   "metadata": {}
  },
  {
   "cell_type": "code",
   "execution_count": 9,
   "source": [
    "SongsLog1.params[:8]"
   ],
   "outputs": [
    {
     "output_type": "execute_result",
     "data": {
      "text/plain": [
       "const                       14.699988\n",
       "timesignature                0.126395\n",
       "timesignature_confidence     0.744992\n",
       "loudness                     0.299879\n",
       "tempo                        0.000363\n",
       "tempo_confidence             0.473227\n",
       "key                          0.015882\n",
       "key_confidence               0.308675\n",
       "dtype: float64"
      ]
     },
     "metadata": {},
     "execution_count": 9
    }
   ],
   "metadata": {}
  },
  {
   "cell_type": "markdown",
   "source": [
    "## Problem 2.4 - Creating Our Prediction Model\r\n",
    "In general, if the confidence is low for the time signature, tempo, and key, then the song is more likely to be complex. What does Model 1 suggest in terms of complexity?\r\n",
    "- Mainstream listeners tend to prefer less complex songs\r\n",
    "\r\n",
    "## Problem 2.5 - Creating Our Prediction Model\r\n",
    "Songs with heavier instrumentation tend to be louder (have higher values in the variable \"loudness\") and more energetic (have higher values in the variable \"energy\").\r\n",
    "\r\n",
    "By inspecting the coefficient of the variable \"loudness\", what does Model 1 suggest?\r\n",
    "- Mainstream listeners prefer songs with heavy instrumentation\r\n",
    "\r\n",
    "By inspecting the coefficient of the variable \"energy\", do we draw the same conclusions as above?\r\n",
    "- No"
   ],
   "metadata": {}
  },
  {
   "cell_type": "code",
   "execution_count": 10,
   "source": [
    "print(\"Loudness:\", SongsLog1.params.loc['loudness'])\r\n",
    "print(\"Energy:\", SongsLog1.params.loc['energy'])"
   ],
   "outputs": [
    {
     "output_type": "stream",
     "name": "stdout",
     "text": [
      "Loudness: 0.2998794034266897\n",
      "Energy: -1.5021444680863525\n"
     ]
    }
   ],
   "metadata": {}
  },
  {
   "cell_type": "markdown",
   "source": [
    "## Problem 3.1 - Beware of Multicollinearity Issues!\r\n",
    "What is the correlation between the variables \"loudness\" and \"energy\" in the training set?\r\n",
    "- 0.7399067084558058\r\n",
    "\r\n",
    "Given that these two variables are highly correlated, Model 1 suffers from multicollinearity. To avoid this issue, we will omit one of these two variables and rerun the logistic regression. In the rest of this problem, we'll build two variations of our original model: Model 2, in which we keep \"energy\" and omit \"loudness\", and Model 3, in which we keep \"loudness\" and omit \"energy\"."
   ],
   "metadata": {}
  },
  {
   "cell_type": "code",
   "execution_count": 11,
   "source": [
    "X_train1[['loudness', 'energy']].corr().iloc[0, 1]"
   ],
   "outputs": [
    {
     "output_type": "execute_result",
     "data": {
      "text/plain": [
       "0.7399067084558058"
      ]
     },
     "metadata": {},
     "execution_count": 11
    }
   ],
   "metadata": {}
  },
  {
   "cell_type": "markdown",
   "source": [
    "## Problem 3.2 - Beware of Multicollinearity Issues!\r\n",
    "Create Model 2, which is Model 1 without the independent variable \"loudness\".\r\n",
    "\r\n",
    "Look at the summary of SongsLog2, and inspect the coefficient of the variable \"energy\". What do you observe?\r\n",
    "- Model 2 suggests that songs with high energy levels tend to be more popular. This contradicts our observation in Model 1. "
   ],
   "metadata": {}
  },
  {
   "cell_type": "code",
   "execution_count": 12,
   "source": [
    "X_train2 = X_train1.drop('loudness', axis=1)\r\n",
    "X_test2 = X_test1.drop('loudness', axis=1)\r\n",
    "\r\n",
    "SongsLog2 = sm.Logit(y_train1, sm.add_constant(X_train2)).fit()\r\n",
    "SongsLog2.params.loc['energy']"
   ],
   "outputs": [
    {
     "output_type": "stream",
     "name": "stdout",
     "text": [
      "Optimization terminated successfully.\n",
      "         Current function value: 0.338276\n",
      "         Iterations 8\n"
     ]
    },
    {
     "output_type": "execute_result",
     "data": {
      "text/plain": [
       "0.18126033700549826"
      ]
     },
     "metadata": {},
     "execution_count": 12
    }
   ],
   "metadata": {}
  },
  {
   "cell_type": "markdown",
   "source": [
    "## Problem 3.3 - Beware of Multicollinearity Issues!\r\n",
    "Now, create Model 3, which should be exactly like Model 1, but without the variable \"energy\".\r\n",
    "\r\n",
    "Look at the summary of Model 3 and inspect the coefficient of the variable \"loudness\". Remembering that higher loudness and energy both occur in songs with heavier instrumentation, do we make the same observation about the popularity of heavy instrumentation as we did with Model 2?\r\n",
    "- Yes"
   ],
   "metadata": {}
  },
  {
   "cell_type": "code",
   "execution_count": 13,
   "source": [
    "X_train3 = X_train1.drop('energy', axis=1)\r\n",
    "X_test3 = X_test1.drop('energy', axis=1)\r\n",
    "\r\n",
    "SongsLog3 = sm.Logit(y_train1, sm.add_constant(X_train3)).fit()\r\n",
    "SongsLog3.params.loc['loudness']"
   ],
   "outputs": [
    {
     "output_type": "stream",
     "name": "stdout",
     "text": [
      "Optimization terminated successfully.\n",
      "         Current function value: 0.332087\n",
      "         Iterations 8\n"
     ]
    },
    {
     "output_type": "execute_result",
     "data": {
      "text/plain": [
       "0.23055651709919034"
      ]
     },
     "metadata": {},
     "execution_count": 13
    }
   ],
   "metadata": {}
  },
  {
   "cell_type": "markdown",
   "source": [
    "## Problem 4.1 - Validating Our Model\r\n",
    "Make predictions on the test set using Model 3. What is the accuracy of Model 3 on the test set, using a threshold of 0.45? (Compute the accuracy as a number between 0 and 1.)"
   ],
   "metadata": {}
  },
  {
   "cell_type": "code",
   "execution_count": 14,
   "source": [
    "pred_3 = SongsLog3.predict(sm.add_constant(X_test3))\r\n",
    "pred_3_bool = (pred_3 >= 0.45).astype(int)\r\n",
    "\r\n",
    "(y_test1 == pred_3_bool).mean()"
   ],
   "outputs": [
    {
     "output_type": "execute_result",
     "data": {
      "text/plain": [
       "0.8793565683646113"
      ]
     },
     "metadata": {},
     "execution_count": 14
    }
   ],
   "metadata": {}
  },
  {
   "cell_type": "markdown",
   "source": [
    "## Problem 4.2 - Validating Our Model\r\n",
    "Let's check if there's any incremental benefit in using Model 3 instead of a baseline model. Given the difficulty of guessing which song is going to be a hit, an easier model would be to pick the most frequent outcome (a song is not a Top 10 hit) for all songs. What would the accuracy of the baseline model be on the test set? (Give your answer as a number between 0 and 1.)"
   ],
   "metadata": {}
  },
  {
   "cell_type": "code",
   "execution_count": 15,
   "source": [
    "1- y_test1.mean()"
   ],
   "outputs": [
    {
     "output_type": "execute_result",
     "data": {
      "text/plain": [
       "0.8418230563002681"
      ]
     },
     "metadata": {},
     "execution_count": 15
    }
   ],
   "metadata": {}
  },
  {
   "cell_type": "markdown",
   "source": [
    "## Problem 4.3 - Validating Our Model\r\n",
    "It seems that Model 3 gives us a small improvement over the baseline model. Still, does it create an edge?\r\n",
    "\r\n",
    "Let's view the two models from an investment perspective. A production company is interested in investing in songs that are highly likely to make it to the Top 10. The company's objective is to minimize its risk of financial losses attributed to investing in songs that end up unpopular.\r\n",
    "\r\n",
    "A competitive edge can therefore be achieved if we can provide the production company a list of songs that are highly likely to end up in the Top 10. We note that the baseline model does not prove useful, as it simply does not label any song as a hit. Let us see what our model has to offer.\r\n",
    "\r\n",
    "How many songs does Model 3 correctly predict as Top 10 hits in 2010 (remember that all songs in 2010 went into our test set), using a threshold of 0.45?"
   ],
   "metadata": {}
  },
  {
   "cell_type": "code",
   "execution_count": 16,
   "source": [
    "test_pred = y_test1.to_frame()\r\n",
    "test_pred['predicted'] = pred_3_bool\r\n",
    "\r\n",
    "cfm = test_pred.value_counts().sort_index()\r\n",
    "cfm"
   ],
   "outputs": [
    {
     "output_type": "execute_result",
     "data": {
      "text/plain": [
       "Top10  predicted\n",
       "0      0            309\n",
       "       1              5\n",
       "1      0             40\n",
       "       1             19\n",
       "dtype: int64"
      ]
     },
     "metadata": {},
     "execution_count": 16
    }
   ],
   "metadata": {}
  },
  {
   "cell_type": "markdown",
   "source": [
    "## Problem 4.4 - Validating Our Model\r\n",
    "What is the sensitivity of Model 3 on the test set, using a threshold of 0.45?\r\n",
    "- 0.3220338983050847\r\n",
    "\r\n",
    "What is the specificity of Model 3 on the test set, using a threshold of 0.45?\r\n",
    "- 0.9840764331210191"
   ],
   "metadata": {}
  },
  {
   "cell_type": "code",
   "execution_count": 17,
   "source": [
    "sensitivity = cfm.loc[1,1] / (cfm.loc[1,1] + cfm.loc[1,0])\r\n",
    "specificity = cfm.loc[0,0] / (cfm.loc[0,0] + cfm.loc[0,1])\r\n",
    "print(\"Sensitivity:\", sensitivity)\r\n",
    "print(\"Specificity:\", specificity)"
   ],
   "outputs": [
    {
     "output_type": "stream",
     "name": "stdout",
     "text": [
      "Sensitivity: 0.3220338983050847\n",
      "Specificity: 0.9840764331210191\n"
     ]
    }
   ],
   "metadata": {}
  },
  {
   "cell_type": "markdown",
   "source": [
    "## Problem 4.5 - Validating Our Model\r\n",
    "What conclusions can you make about our model? *Select all that apply*.\r\n",
    "- Model 3 favors specificity over sensitivity.\r\n",
    "- Model 3 provides conservative predictions, and predicts that a song will make it to the Top 10 very rarely. So while it detects less than half of the Top 10 songs, we can be very confident in the songs that it does predict to be Top 10 hits."
   ],
   "metadata": {}
  }
 ],
 "metadata": {
  "orig_nbformat": 4,
  "language_info": {
   "name": "python",
   "version": "3.9.6",
   "mimetype": "text/x-python",
   "codemirror_mode": {
    "name": "ipython",
    "version": 3
   },
   "pygments_lexer": "ipython3",
   "nbconvert_exporter": "python",
   "file_extension": ".py"
  },
  "kernelspec": {
   "name": "python3",
   "display_name": "Python 3.9.6 64-bit"
  },
  "interpreter": {
   "hash": "9e6fe232ec1802e04813a62eadbd4a033db6fcefdd78d84705bbb38e45fcef4a"
  }
 },
 "nbformat": 4,
 "nbformat_minor": 2
}