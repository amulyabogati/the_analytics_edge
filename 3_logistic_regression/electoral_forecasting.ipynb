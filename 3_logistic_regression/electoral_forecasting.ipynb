{
 "cells": [
  {
   "cell_type": "code",
   "execution_count": 1,
   "source": [
    "# import library.\r\n",
    "import pandas as pd\r\n",
    "import numpy as np\r\n",
    "\r\n",
    "from sklearn.experimental import enable_iterative_imputer\r\n",
    "from sklearn.impute import IterativeImputer\r\n",
    "\r\n",
    "import statsmodels.api as sm\r\n",
    "from sklearn import metrics\r\n",
    "\r\n",
    "import warnings\r\n",
    "warnings.simplefilter(action='ignore', category=FutureWarning)"
   ],
   "outputs": [],
   "metadata": {}
  },
  {
   "cell_type": "code",
   "execution_count": 2,
   "source": [
    "# import data.\r\n",
    "polling = pd.read_csv('../data/PollingData.csv')\r\n",
    "polling.info()"
   ],
   "outputs": [
    {
     "output_type": "stream",
     "name": "stdout",
     "text": [
      "<class 'pandas.core.frame.DataFrame'>\n",
      "RangeIndex: 145 entries, 0 to 144\n",
      "Data columns (total 7 columns):\n",
      " #   Column      Non-Null Count  Dtype  \n",
      "---  ------      --------------  -----  \n",
      " 0   State       145 non-null    object \n",
      " 1   Year        145 non-null    int64  \n",
      " 2   Rasmussen   99 non-null     float64\n",
      " 3   SurveyUSA   74 non-null     float64\n",
      " 4   DiffCount   145 non-null    int64  \n",
      " 5   PropR       145 non-null    float64\n",
      " 6   Republican  145 non-null    int64  \n",
      "dtypes: float64(3), int64(3), object(1)\n",
      "memory usage: 8.1+ KB\n"
     ]
    }
   ],
   "metadata": {}
  },
  {
   "cell_type": "code",
   "execution_count": 3,
   "source": [
    "# data for each year.\r\n",
    "polling['Year'].value_counts()"
   ],
   "outputs": [
    {
     "output_type": "execute_result",
     "data": {
      "text/plain": [
       "2004    50\n",
       "2008    50\n",
       "2012    45\n",
       "Name: Year, dtype: int64"
      ]
     },
     "metadata": {},
     "execution_count": 3
    }
   ],
   "metadata": {}
  },
  {
   "cell_type": "code",
   "execution_count": 4,
   "source": [
    "# missing data.\r\n",
    "polling.isnull().sum()"
   ],
   "outputs": [
    {
     "output_type": "execute_result",
     "data": {
      "text/plain": [
       "State          0\n",
       "Year           0\n",
       "Rasmussen     46\n",
       "SurveyUSA     71\n",
       "DiffCount      0\n",
       "PropR          0\n",
       "Republican     0\n",
       "dtype: int64"
      ]
     },
     "metadata": {},
     "execution_count": 4
    }
   ],
   "metadata": {}
  },
  {
   "cell_type": "code",
   "execution_count": 5,
   "source": [
    "# limited features.\r\n",
    "features = ['Rasmussen', 'SurveyUSA', 'PropR', 'DiffCount']\r\n",
    "simple = polling[features].copy()\r\n",
    "simple.info()"
   ],
   "outputs": [
    {
     "output_type": "stream",
     "name": "stdout",
     "text": [
      "<class 'pandas.core.frame.DataFrame'>\n",
      "RangeIndex: 145 entries, 0 to 144\n",
      "Data columns (total 4 columns):\n",
      " #   Column     Non-Null Count  Dtype  \n",
      "---  ------     --------------  -----  \n",
      " 0   Rasmussen  99 non-null     float64\n",
      " 1   SurveyUSA  74 non-null     float64\n",
      " 2   PropR      145 non-null    float64\n",
      " 3   DiffCount  145 non-null    int64  \n",
      "dtypes: float64(3), int64(1)\n",
      "memory usage: 4.7 KB\n"
     ]
    }
   ],
   "metadata": {}
  },
  {
   "cell_type": "code",
   "execution_count": 6,
   "source": [
    "# impute missing values.\r\n",
    "imputer = IterativeImputer(random_state=0)\r\n",
    "imputed = pd.DataFrame(imputer.fit_transform(simple).round(1), columns=features)"
   ],
   "outputs": [
    {
     "output_type": "stream",
     "name": "stderr",
     "text": [
      "E:\\Python39\\lib\\site-packages\\sklearn\\impute\\_iterative.py:685: ConvergenceWarning: [IterativeImputer] Early stopping criterion not reached.\n",
      "  warnings.warn(\"[IterativeImputer] Early stopping criterion not\"\n"
     ]
    }
   ],
   "metadata": {}
  },
  {
   "cell_type": "code",
   "execution_count": 7,
   "source": [
    "# impute missing values in the original df.\r\n",
    "polling[['Rasmussen', 'SurveyUSA']] = imputed[['Rasmussen', 'SurveyUSA']].copy()"
   ],
   "outputs": [],
   "metadata": {}
  },
  {
   "cell_type": "code",
   "execution_count": 8,
   "source": [
    "# create training and testing sets.\r\n",
    "train = polling[polling['Year'].isin([2004, 2008])].copy()\r\n",
    "test = polling[polling['Year']==2012].copy()"
   ],
   "outputs": [],
   "metadata": {}
  },
  {
   "cell_type": "code",
   "execution_count": 9,
   "source": [
    "# baseline.\r\n",
    "train['Republican'].value_counts()"
   ],
   "outputs": [
    {
     "output_type": "execute_result",
     "data": {
      "text/plain": [
       "1    53\n",
       "0    47\n",
       "Name: Republican, dtype: int64"
      ]
     },
     "metadata": {},
     "execution_count": 9
    }
   ],
   "metadata": {}
  },
  {
   "cell_type": "code",
   "execution_count": 10,
   "source": [
    "# baseline.\r\n",
    "train['RasmussenSign'] = np.where(\r\n",
    "    train['Rasmussen']<=0,\r\n",
    "    np.where(\r\n",
    "        train['Rasmussen']==0,\r\n",
    "        0,\r\n",
    "        -1\r\n",
    "    ),\r\n",
    "    1\r\n",
    ")\r\n",
    "\r\n",
    "test['RasmussenSign'] = np.where(\r\n",
    "    test['Rasmussen']<=0,\r\n",
    "    np.where(\r\n",
    "        test['Rasmussen']==0,\r\n",
    "        0,\r\n",
    "        -1\r\n",
    "    ),\r\n",
    "    1\r\n",
    ")\r\n",
    "\r\n",
    "train[['RasmussenSign', 'Republican']].value_counts().sort_index()"
   ],
   "outputs": [
    {
     "output_type": "execute_result",
     "data": {
      "text/plain": [
       "RasmussenSign  Republican\n",
       "-1             0             42\n",
       " 0             0              1\n",
       "               1              1\n",
       " 1             0              4\n",
       "               1             52\n",
       "dtype: int64"
      ]
     },
     "metadata": {},
     "execution_count": 10
    }
   ],
   "metadata": {}
  },
  {
   "cell_type": "code",
   "execution_count": 11,
   "source": [
    "train.corr().round(2)"
   ],
   "outputs": [
    {
     "output_type": "execute_result",
     "data": {
      "text/plain": [
       "               Year  Rasmussen  SurveyUSA  DiffCount  PropR  Republican  \\\n",
       "Year           1.00      -0.17      -0.19      -0.24  -0.19       -0.18   \n",
       "Rasmussen     -0.17       1.00       0.96       0.54   0.82        0.78   \n",
       "SurveyUSA     -0.19       0.96       1.00       0.57   0.85        0.80   \n",
       "DiffCount     -0.24       0.54       0.57       1.00   0.83        0.81   \n",
       "PropR         -0.19       0.82       0.85       0.83   1.00        0.95   \n",
       "Republican    -0.18       0.78       0.80       0.81   0.95        1.00   \n",
       "RasmussenSign -0.14       0.80       0.81       0.76   0.94        0.91   \n",
       "\n",
       "               RasmussenSign  \n",
       "Year                   -0.14  \n",
       "Rasmussen               0.80  \n",
       "SurveyUSA               0.81  \n",
       "DiffCount               0.76  \n",
       "PropR                   0.94  \n",
       "Republican              0.91  \n",
       "RasmussenSign           1.00  "
      ],
      "text/html": [
       "<div>\n",
       "<style scoped>\n",
       "    .dataframe tbody tr th:only-of-type {\n",
       "        vertical-align: middle;\n",
       "    }\n",
       "\n",
       "    .dataframe tbody tr th {\n",
       "        vertical-align: top;\n",
       "    }\n",
       "\n",
       "    .dataframe thead th {\n",
       "        text-align: right;\n",
       "    }\n",
       "</style>\n",
       "<table border=\"1\" class=\"dataframe\">\n",
       "  <thead>\n",
       "    <tr style=\"text-align: right;\">\n",
       "      <th></th>\n",
       "      <th>Year</th>\n",
       "      <th>Rasmussen</th>\n",
       "      <th>SurveyUSA</th>\n",
       "      <th>DiffCount</th>\n",
       "      <th>PropR</th>\n",
       "      <th>Republican</th>\n",
       "      <th>RasmussenSign</th>\n",
       "    </tr>\n",
       "  </thead>\n",
       "  <tbody>\n",
       "    <tr>\n",
       "      <th>Year</th>\n",
       "      <td>1.00</td>\n",
       "      <td>-0.17</td>\n",
       "      <td>-0.19</td>\n",
       "      <td>-0.24</td>\n",
       "      <td>-0.19</td>\n",
       "      <td>-0.18</td>\n",
       "      <td>-0.14</td>\n",
       "    </tr>\n",
       "    <tr>\n",
       "      <th>Rasmussen</th>\n",
       "      <td>-0.17</td>\n",
       "      <td>1.00</td>\n",
       "      <td>0.96</td>\n",
       "      <td>0.54</td>\n",
       "      <td>0.82</td>\n",
       "      <td>0.78</td>\n",
       "      <td>0.80</td>\n",
       "    </tr>\n",
       "    <tr>\n",
       "      <th>SurveyUSA</th>\n",
       "      <td>-0.19</td>\n",
       "      <td>0.96</td>\n",
       "      <td>1.00</td>\n",
       "      <td>0.57</td>\n",
       "      <td>0.85</td>\n",
       "      <td>0.80</td>\n",
       "      <td>0.81</td>\n",
       "    </tr>\n",
       "    <tr>\n",
       "      <th>DiffCount</th>\n",
       "      <td>-0.24</td>\n",
       "      <td>0.54</td>\n",
       "      <td>0.57</td>\n",
       "      <td>1.00</td>\n",
       "      <td>0.83</td>\n",
       "      <td>0.81</td>\n",
       "      <td>0.76</td>\n",
       "    </tr>\n",
       "    <tr>\n",
       "      <th>PropR</th>\n",
       "      <td>-0.19</td>\n",
       "      <td>0.82</td>\n",
       "      <td>0.85</td>\n",
       "      <td>0.83</td>\n",
       "      <td>1.00</td>\n",
       "      <td>0.95</td>\n",
       "      <td>0.94</td>\n",
       "    </tr>\n",
       "    <tr>\n",
       "      <th>Republican</th>\n",
       "      <td>-0.18</td>\n",
       "      <td>0.78</td>\n",
       "      <td>0.80</td>\n",
       "      <td>0.81</td>\n",
       "      <td>0.95</td>\n",
       "      <td>1.00</td>\n",
       "      <td>0.91</td>\n",
       "    </tr>\n",
       "    <tr>\n",
       "      <th>RasmussenSign</th>\n",
       "      <td>-0.14</td>\n",
       "      <td>0.80</td>\n",
       "      <td>0.81</td>\n",
       "      <td>0.76</td>\n",
       "      <td>0.94</td>\n",
       "      <td>0.91</td>\n",
       "      <td>1.00</td>\n",
       "    </tr>\n",
       "  </tbody>\n",
       "</table>\n",
       "</div>"
      ]
     },
     "metadata": {},
     "execution_count": 11
    }
   ],
   "metadata": {}
  },
  {
   "cell_type": "code",
   "execution_count": 12,
   "source": [
    "model1 = sm.Logit(train['Republican'], sm.add_constant(train[['PropR']])).fit()\r\n",
    "print(model1.summary())\r\n",
    "\r\n",
    "pred_1 = model1.predict(sm.add_constant(test[['PropR']]))\r\n",
    "print(model1.pred_table())"
   ],
   "outputs": [
    {
     "output_type": "stream",
     "name": "stdout",
     "text": [
      "Optimization terminated successfully.\n",
      "         Current function value: 0.078862\n",
      "         Iterations 9\n",
      "                           Logit Regression Results                           \n",
      "==============================================================================\n",
      "Dep. Variable:             Republican   No. Observations:                  100\n",
      "Model:                          Logit   Df Residuals:                       98\n",
      "Method:                           MLE   Df Model:                            1\n",
      "Date:                Thu, 19 Aug 2021   Pseudo R-squ.:                  0.8859\n",
      "Time:                        22:18:41   Log-Likelihood:                -7.8862\n",
      "converged:                       True   LL-Null:                       -69.135\n",
      "Covariance Type:            nonrobust   LLR p-value:                 1.797e-28\n",
      "==============================================================================\n",
      "                 coef    std err          z      P>|z|      [0.025      0.975]\n",
      "------------------------------------------------------------------------------\n",
      "const         -6.1462      1.977     -3.108      0.002     -10.022      -2.271\n",
      "PropR         11.3904      3.153      3.613      0.000       5.212      17.569\n",
      "==============================================================================\n",
      "[[45.  2.]\n",
      " [ 2. 51.]]\n"
     ]
    }
   ],
   "metadata": {}
  },
  {
   "cell_type": "code",
   "execution_count": 13,
   "source": [
    "model2 = sm.Logit(train['Republican'], sm.add_constant(train[['SurveyUSA', 'DiffCount']])).fit()\r\n",
    "print(model2.summary())\r\n",
    "\r\n",
    "pred_2 = model2.predict(sm.add_constant(test[['SurveyUSA', 'DiffCount']]))\r\n",
    "print(model2.pred_table())"
   ],
   "outputs": [
    {
     "output_type": "stream",
     "name": "stdout",
     "text": [
      "Optimization terminated successfully.\n",
      "         Current function value: 0.058798\n",
      "         Iterations 11\n",
      "                           Logit Regression Results                           \n",
      "==============================================================================\n",
      "Dep. Variable:             Republican   No. Observations:                  100\n",
      "Model:                          Logit   Df Residuals:                       97\n",
      "Method:                           MLE   Df Model:                            2\n",
      "Date:                Thu, 19 Aug 2021   Pseudo R-squ.:                  0.9150\n",
      "Time:                        22:18:41   Log-Likelihood:                -5.8798\n",
      "converged:                       True   LL-Null:                       -69.135\n",
      "Covariance Type:            nonrobust   LLR p-value:                 3.379e-28\n",
      "==============================================================================\n",
      "                 coef    std err          z      P>|z|      [0.025      0.975]\n",
      "------------------------------------------------------------------------------\n",
      "const         -1.2978      1.343     -0.966      0.334      -3.931       1.335\n",
      "SurveyUSA      0.3940      0.192      2.048      0.041       0.017       0.771\n",
      "DiffCount      0.7664      0.458      1.672      0.094      -0.132       1.665\n",
      "==============================================================================\n",
      "\n",
      "Possibly complete quasi-separation: A fraction 0.45 of observations can be\n",
      "perfectly predicted. This might indicate that there is complete\n",
      "quasi-separation. In this case some parameters will not be identified.\n",
      "[[45.  2.]\n",
      " [ 1. 52.]]\n"
     ]
    }
   ],
   "metadata": {}
  },
  {
   "cell_type": "code",
   "execution_count": 14,
   "source": [
    "th = 0.5\r\n",
    "test['pred_1'] = (pred_1 >= th).astype(int)\r\n",
    "test['pred_2'] = (pred_1 >= th).astype(int)"
   ],
   "outputs": [],
   "metadata": {}
  },
  {
   "cell_type": "code",
   "execution_count": 15,
   "source": [
    "test[['Republican', 'RasmussenSign']].value_counts().sort_index()"
   ],
   "outputs": [
    {
     "output_type": "execute_result",
     "data": {
      "text/plain": [
       "Republican  RasmussenSign\n",
       "0           -1               18\n",
       "             0                2\n",
       "             1                4\n",
       "1            1               21\n",
       "dtype: int64"
      ]
     },
     "metadata": {},
     "execution_count": 15
    }
   ],
   "metadata": {}
  },
  {
   "cell_type": "code",
   "execution_count": 16,
   "source": [
    "test[['Republican', 'pred_1']].value_counts().sort_index()"
   ],
   "outputs": [
    {
     "output_type": "execute_result",
     "data": {
      "text/plain": [
       "Republican  pred_1\n",
       "0           0         23\n",
       "            1          1\n",
       "1           1         21\n",
       "dtype: int64"
      ]
     },
     "metadata": {},
     "execution_count": 16
    }
   ],
   "metadata": {}
  },
  {
   "cell_type": "code",
   "execution_count": 17,
   "source": [
    "test[['Republican', 'pred_2']].value_counts().sort_index()"
   ],
   "outputs": [
    {
     "output_type": "execute_result",
     "data": {
      "text/plain": [
       "Republican  pred_2\n",
       "0           0         23\n",
       "            1          1\n",
       "1           1         21\n",
       "dtype: int64"
      ]
     },
     "metadata": {},
     "execution_count": 17
    }
   ],
   "metadata": {}
  }
 ],
 "metadata": {
  "orig_nbformat": 4,
  "language_info": {
   "name": "python",
   "version": "3.9.6",
   "mimetype": "text/x-python",
   "codemirror_mode": {
    "name": "ipython",
    "version": 3
   },
   "pygments_lexer": "ipython3",
   "nbconvert_exporter": "python",
   "file_extension": ".py"
  },
  "kernelspec": {
   "name": "python3",
   "display_name": "Python 3.9.6 64-bit"
  },
  "interpreter": {
   "hash": "9e6fe232ec1802e04813a62eadbd4a033db6fcefdd78d84705bbb38e45fcef4a"
  }
 },
 "nbformat": 4,
 "nbformat_minor": 2
}