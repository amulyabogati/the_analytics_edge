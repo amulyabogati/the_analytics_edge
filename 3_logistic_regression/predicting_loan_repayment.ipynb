{
 "cells": [
  {
   "cell_type": "markdown",
   "source": [
    "# Predicting Loan Repayment"
   ],
   "metadata": {}
  },
  {
   "cell_type": "code",
   "execution_count": 1,
   "source": [
    "# import library.\r\n",
    "import pandas as pd\r\n",
    "import numpy as np\r\n",
    "\r\n",
    "from sklearn.model_selection import train_test_split\r\n",
    "import statsmodels.api as sm\r\n",
    "from sklearn import metrics\r\n",
    "\r\n",
    "import warnings\r\n",
    "warnings.simplefilter(action='ignore', category=FutureWarning)"
   ],
   "outputs": [],
   "metadata": {}
  },
  {
   "cell_type": "markdown",
   "source": [
    "## Problem 1.1 - Preparing the Dataset\r\n",
    "\r\n",
    "Load the dataset loans.csv into a data frame called loans.\r\n",
    "What proportion of the loans in the dataset were not paid in full? Please input a number between 0 and 1."
   ],
   "metadata": {}
  },
  {
   "cell_type": "code",
   "execution_count": 2,
   "source": [
    "loans = pd.read_csv('../data/loans.csv')\r\n",
    "loans_imputed = pd.read_csv('../data/loans_imputed.csv')\r\n",
    "loans['not.fully.paid'].mean()"
   ],
   "outputs": [
    {
     "output_type": "execute_result",
     "data": {
      "text/plain": [
       "0.16005429108373356"
      ]
     },
     "metadata": {},
     "execution_count": 2
    }
   ],
   "metadata": {}
  },
  {
   "cell_type": "markdown",
   "source": [
    "## Problem 1.2 - Preparing the Dataset\r\n",
    "Which of the following variables has at least one missing observation? *Select all that apply*.\r\n",
    "- log.annual.inc\r\n",
    "- days.with.cr.line\r\n",
    "- revol.util\r\n",
    "- inq.last.6mths\r\n",
    "- delinq.2yrs\r\n",
    "- pub.rec"
   ],
   "metadata": {}
  },
  {
   "cell_type": "code",
   "execution_count": 3,
   "source": [
    "loans.isnull().sum()"
   ],
   "outputs": [
    {
     "output_type": "execute_result",
     "data": {
      "text/plain": [
       "credit.policy         0\n",
       "purpose               0\n",
       "int.rate              0\n",
       "installment           0\n",
       "log.annual.inc        4\n",
       "dti                   0\n",
       "fico                  0\n",
       "days.with.cr.line    29\n",
       "revol.bal             0\n",
       "revol.util           62\n",
       "inq.last.6mths       29\n",
       "delinq.2yrs          29\n",
       "pub.rec              29\n",
       "not.fully.paid        0\n",
       "dtype: int64"
      ]
     },
     "metadata": {},
     "execution_count": 3
    }
   ],
   "metadata": {}
  },
  {
   "cell_type": "markdown",
   "source": [
    "## Problem 1.3 - Preparing the Dataset\r\n",
    "Which of the following is the best reason to fill in the missing values for these variables instead of removing observations with missing data?\r\n",
    "- We want to be able to predict risk for all borrowers, instead of just the ones with all data reported."
   ],
   "metadata": {}
  },
  {
   "cell_type": "code",
   "execution_count": 4,
   "source": [
    "loans[loans.isnull().any(axis=1)]['not.fully.paid'].mean()"
   ],
   "outputs": [
    {
     "output_type": "execute_result",
     "data": {
      "text/plain": [
       "0.1935483870967742"
      ]
     },
     "metadata": {},
     "execution_count": 4
    }
   ],
   "metadata": {}
  },
  {
   "cell_type": "markdown",
   "source": [
    "## Problem 1.4 - Preparing the Dataset\r\n",
    "For the rest of this problem, we'll be using a revised version of the dataset that has the missing values filled in with multiple imputation (which was discussed in the Recitation of this Unit). To ensure everybody has the same data frame going forward, you can download and load into Python the dataset we created after running the imputation: loans_imputed.csv.\r\n",
    "\r\n",
    "What best describes the process we just used to handle missing values?\r\n",
    "- We predicted missing variable values using the available independent variables for each observation.\r\n",
    "\r\n",
    "## Problem 2.1 - Prediction Models\r\n",
    "Now that we have prepared the dataset, we need to split it into a training and testing set. To ensure everybody obtains the same split, set the random seed to 144 (even though you already did so earlier in the problem) and use the sample.split function to select the 70% of observations for the training set. Name the data frames train and test.\r\n",
    "\r\n",
    "Now, use logistic regression trained on the training set to predict the dependent variable not.fully.paid using all the independent variables.\r\n",
    "\r\n",
    "Which independent variables are significant in our model? *Select all that apply*.\r\n",
    "- credit.policy\r\n",
    "- purpose2 (credit card)\r\n",
    "- purpose3 (debt consolidation)\r\n",
    "- purpose6 (major purchase)\r\n",
    "- purpose7 (small business)\r\n",
    "- installment\r\n",
    "- log.annual.inc\r\n",
    "- fico\r\n",
    "- revol.bal\r\n",
    "- inq.last.6mths\r\n",
    "- pub.rec"
   ],
   "metadata": {}
  },
  {
   "cell_type": "code",
   "execution_count": 5,
   "source": [
    "purpose_class = [\r\n",
    "    'credit_card', 'debt_consolidation', 'educational',\r\n",
    "    'home_improvement', 'major_purchase', 'small_business'\r\n",
    "]\r\n",
    "\r\n",
    "for purpose_ in purpose_class:\r\n",
    "    loans_imputed[purpose_] = (loans_imputed['purpose']==purpose_).astype(int)\r\n",
    "loans_imputed.drop('purpose', axis=1, inplace=True)\r\n",
    "\r\n",
    "\r\n",
    "X = loans_imputed.drop('not.fully.paid', axis=1).copy()\r\n",
    "y = loans_imputed['not.fully.paid'].copy()\r\n",
    "\r\n",
    "X_train, X_test, y_train, y_test = train_test_split(\r\n",
    "    X, y, train_size=0.7, random_state=144\r\n",
    ")\r\n",
    "\r\n",
    "model1 = sm.Logit(y_train, sm.add_constant(X_train)).fit()\r\n",
    "print(model1.summary())"
   ],
   "outputs": [
    {
     "output_type": "stream",
     "name": "stdout",
     "text": [
      "Optimization terminated successfully.\n",
      "         Current function value: 0.414813\n",
      "         Iterations 6\n",
      "                           Logit Regression Results                           \n",
      "==============================================================================\n",
      "Dep. Variable:         not.fully.paid   No. Observations:                 6704\n",
      "Model:                          Logit   Df Residuals:                     6685\n",
      "Method:                           MLE   Df Model:                           18\n",
      "Date:                Fri, 20 Aug 2021   Pseudo R-squ.:                 0.06868\n",
      "Time:                        17:41:54   Log-Likelihood:                -2780.9\n",
      "converged:                       True   LL-Null:                       -2986.0\n",
      "Covariance Type:            nonrobust   LLR p-value:                 6.964e-76\n",
      "======================================================================================\n",
      "                         coef    std err          z      P>|z|      [0.025      0.975]\n",
      "--------------------------------------------------------------------------------------\n",
      "const                  8.6816      1.536      5.653      0.000       5.672      11.692\n",
      "credit.policy         -0.3415      0.100     -3.417      0.001      -0.537      -0.146\n",
      "int.rate               1.2606      2.024      0.623      0.533      -2.707       5.228\n",
      "installment            0.0014      0.000      6.862      0.000       0.001       0.002\n",
      "log.annual.inc        -0.3831      0.071     -5.425      0.000      -0.521      -0.245\n",
      "dti                    0.0007      0.005      0.130      0.896      -0.010       0.011\n",
      "fico                  -0.0093      0.002     -5.533      0.000      -0.013      -0.006\n",
      "days.with.cr.line   1.535e-06   1.61e-05      0.095      0.924      -3e-05    3.31e-05\n",
      "revol.bal            2.87e-06   1.15e-06      2.493      0.013    6.14e-07    5.13e-06\n",
      "revol.util             0.0026      0.002      1.709      0.087      -0.000       0.006\n",
      "inq.last.6mths         0.0815      0.016      5.123      0.000       0.050       0.113\n",
      "delinq.2yrs           -0.0970      0.065     -1.493      0.136      -0.224       0.030\n",
      "pub.rec                0.2212      0.118      1.876      0.061      -0.010       0.452\n",
      "credit_card           -0.6795      0.132     -5.164      0.000      -0.937      -0.422\n",
      "debt_consolidation    -0.4784      0.091     -5.277      0.000      -0.656      -0.301\n",
      "educational           -0.1206      0.183     -0.659      0.510      -0.479       0.238\n",
      "home_improvement      -0.0891      0.149     -0.599      0.549      -0.381       0.203\n",
      "major_purchase        -0.4841      0.199     -2.430      0.015      -0.875      -0.094\n",
      "small_business         0.3013      0.138      2.182      0.029       0.031       0.572\n",
      "======================================================================================\n"
     ]
    }
   ],
   "metadata": {}
  },
  {
   "cell_type": "markdown",
   "source": [
    "## Problem 2.2 - Prediction Models\r\n",
    "Consider two loan applications, which are identical other than the fact that the borrower in Application A has FICO credit score 700 while the borrower in Application B has FICO credit score 710.\r\n",
    "\r\n",
    "Let Logit(A) be the log odds of loan A not being paid back in full, according to our logistic regression model, and define Logit(B) similarly for loan B. What is the value of Logit(A) - Logit(B)?\r\n",
    "- 0.0093\r\n",
    "\r\n",
    "Now, let O(A) be the odds of loan A not being paid back in full, according to our logistic regression model, and define O(B) similarly for loan B. What is the value of O(A)/O(B)? *(HINT: Use the mathematical rule that exp(A + B + C) = exp(A)*exp(B)*exp(C)*.\r\n",
    "- 1.0975"
   ],
   "metadata": {}
  },
  {
   "cell_type": "code",
   "execution_count": 6,
   "source": [
    "np.exp(0.093)"
   ],
   "outputs": [
    {
     "output_type": "execute_result",
     "data": {
      "text/plain": [
       "1.097461735268082"
      ]
     },
     "metadata": {},
     "execution_count": 6
    }
   ],
   "metadata": {}
  },
  {
   "cell_type": "markdown",
   "source": [
    "## Problem 2.3 - Prediction Models\r\n",
    "Predict the probability of the test set loans not being paid back in full. Store these predicted probabilities in a variable named predicted.risk and add it to your test set (we will use this variable in later parts of the problem). Compute the confusion matrix using a threshold of 0.5.\r\n",
    "\r\n",
    "What is the accuracy of the logistic regression model? Input the accuracy as a number between 0 and 1.\r\n",
    "- 0.8482\r\n",
    "\r\n",
    "What is the accuracy of the baseline model? Input the accuracy as a number between 0 and 1.\r\n",
    "- 0.8479"
   ],
   "metadata": {}
  },
  {
   "cell_type": "code",
   "execution_count": 7,
   "source": [
    "pred_1 = model1.predict(sm.add_constant(X_test))\r\n",
    "th = 0.5\r\n",
    "\r\n",
    "test_df = pd.DataFrame()\r\n",
    "test_df['actual.risk'], test_df['predicted.risk'] = y_test, pred_1\r\n",
    "test_df['predicted.risk'] = (test_df['predicted.risk']>=th).astype(int)\r\n",
    "\r\n",
    "print(test_df.value_counts())\r\n",
    "\r\n",
    "print(\"Accuracy:\", (2424 + 14) / test_df.shape[0])\r\n",
    "print(\"Baseline\", 1- y_test.mean())"
   ],
   "outputs": [
    {
     "output_type": "stream",
     "name": "stdout",
     "text": [
      "actual.risk  predicted.risk\n",
      "0            0                 2424\n",
      "1            0                  423\n",
      "             1                   14\n",
      "0            1                   13\n",
      "dtype: int64\n",
      "Accuracy: 0.848295059151009\n",
      "Baseline 0.8479471120389701\n"
     ]
    }
   ],
   "metadata": {}
  },
  {
   "cell_type": "markdown",
   "source": [
    "## Problem 2.4 - Prediction Models\r\n",
    "Compute the test set AUC."
   ],
   "metadata": {}
  },
  {
   "cell_type": "code",
   "execution_count": 8,
   "source": [
    "fpr, tpr, ths = metrics.roc_curve(y_test, pred_1)\r\n",
    "print(\"AUC\", metrics.auc(fpr, tpr))"
   ],
   "outputs": [
    {
     "output_type": "stream",
     "name": "stdout",
     "text": [
      "AUC 0.6732383759527273\n"
     ]
    }
   ],
   "metadata": {}
  },
  {
   "cell_type": "markdown",
   "source": [
    "## Problem 3.1 - A \"Smart Baseline\"\r\n",
    "In the previous problem, we built a logistic regression model that has an AUC significantly higher than the AUC of 0.5 that would be obtained by randomly ordering observations.\r\n",
    "\r\n",
    "However, LendingClub.com assigns the interest rate to a loan based on their estimate of that loan's risk. This variable, int.rate, is an independent variable in our dataset. In this part, we will investigate using the loan's interest rate as a \"smart baseline\" to order the loans according to risk.\r\n",
    "\r\n",
    "Using the training set, build a bivariate logistic regression model (aka a logistic regression model with a single independent variable) that predicts the dependent variable not.fully.paid using only the variable int.rate.\r\n",
    "\r\n",
    "The variable int.rate is highly significant in the bivariate model, but it is not significant at the 0.05 level in the model trained with all the independent variables. What is the most likely explanation for this difference?\r\n",
    "- int.rate is correlated with other risk-related variables, and therefore does not incrementally improve the model when those other variables are included. "
   ],
   "metadata": {}
  },
  {
   "cell_type": "code",
   "execution_count": 9,
   "source": [
    "X2 = loans_imputed[['int.rate']].copy()\r\n",
    "y2 = loans_imputed['not.fully.paid'].copy()\r\n",
    "\r\n",
    "X_train2, X_test2, y_train2, y_test2 = train_test_split(\r\n",
    "    X2, y2, train_size=0.7, random_state=144\r\n",
    ")\r\n",
    "\r\n",
    "model2 = sm.Logit(y_train2, sm.add_constant(X_train2)).fit()\r\n",
    "print(\"Int rate coef:\", model2.params.values[1])"
   ],
   "outputs": [
    {
     "output_type": "stream",
     "name": "stdout",
     "text": [
      "Optimization terminated successfully.\n",
      "         Current function value: 0.432369\n",
      "         Iterations 6\n",
      "Int rate coef: 16.298697030748826\n"
     ]
    }
   ],
   "metadata": {}
  },
  {
   "cell_type": "markdown",
   "source": [
    "## Problem 3.2 - A \"Smart Baseline\"\r\n",
    "Make test set predictions for the bivariate model. What is the highest predicted probability of a loan not being paid in full on the testing set?\r\n",
    "- 0.4251\r\n",
    "\r\n",
    "With a logistic regression cutoff of 0.5, how many loans would be predicted as not being paid in full on the testing set?\r\n",
    "- 0"
   ],
   "metadata": {}
  },
  {
   "cell_type": "code",
   "execution_count": 10,
   "source": [
    "pred_2 = model2.predict(sm.add_constant(X_test2))\r\n",
    "print(\"Highest prob:\", max(pred_2))\r\n",
    "print(\"No pay:\", sum(pred_2 > 0.5))"
   ],
   "outputs": [
    {
     "output_type": "stream",
     "name": "stdout",
     "text": [
      "Highest prob: 0.42510485714939467\n",
      "No pay: 0\n"
     ]
    }
   ],
   "metadata": {}
  },
  {
   "cell_type": "markdown",
   "source": [
    "## Problem 3.3 - A \"Smart Baseline\"\r\n",
    "What is the test set AUC of the bivariate model?"
   ],
   "metadata": {}
  },
  {
   "cell_type": "code",
   "execution_count": 11,
   "source": [
    "fpr2, tpr2, ths2 = metrics.roc_curve(y_test2, pred_2)\r\n",
    "print(metrics.auc(fpr2, tpr2))"
   ],
   "outputs": [
    {
     "output_type": "stream",
     "name": "stdout",
     "text": [
      "0.617354120166878\n"
     ]
    }
   ],
   "metadata": {}
  },
  {
   "cell_type": "markdown",
   "source": [
    "## Problem 4.1 - Computing the Profitability of an Investment\r\n",
    "While thus far we have predicted if a loan will be paid back or not, an investor needs to identify loans that are expected to be profitable. If the loan is paid back in full, then the investor makes interest on the loan. However, if the loan is not paid back, the investor loses the money invested. Therefore, the investor should seek loans that best balance this risk and reward.\r\n",
    "\r\n",
    "To compute interest revenue, consider a $ $c $ investment in a loan that has an annual interest rate $r$ over a period of $t$ years. Using continuous compounding of interest, this investment pays back $c * exp(rt)$ dollars by the end of the $t$ years, where $exp(rt)$ is $e$ raised to the $r*t$ power.\r\n",
    "\r\n",
    "How much does a $\\$10$ investment with an annual interest rate of $6\\%$ pay back after $3$ years, using continuous compounding of interest? *Hint: remember to convert the percentage to a proportion before doing the math.*"
   ],
   "metadata": {}
  },
  {
   "cell_type": "code",
   "execution_count": 12,
   "source": [
    "10 * np.exp(6/100*3)"
   ],
   "outputs": [
    {
     "output_type": "execute_result",
     "data": {
      "text/plain": [
       "11.972173631218102"
      ]
     },
     "metadata": {},
     "execution_count": 12
    }
   ],
   "metadata": {}
  },
  {
   "cell_type": "markdown",
   "source": [
    "## Problem 4.2 - Computing the Profitability of an Investment\r\n",
    "While the investment has value $c * exp(rt)$ dollars after collecting interest, the investor had to pay $\\$c$ for the investment. What is the profit to the investor if the investment is paid back in full?\r\n",
    "- $c * exp(rt) - c$\r\n",
    "\r\n",
    "## Problem 4.3 - Computing the Profitability of an Investment\r\n",
    "Now, consider the case where the investor made a $\\$c$ investment, but it was not paid back in full. Assume, conservatively, that no money was received from the borrower (often a lender will receive some but not all of the value of the loan, making this a pessimistic assumption of how much is received). What is the profit to the investor in this scenario?\r\n",
    "- $c$\r\n",
    "\r\n",
    "## Problem 5.1 - A Simple Investment Strategy\r\n",
    "In the previous subproblem, we concluded that an investor who invested $c$ dollars in a loan with interest rate $r$ for $t$ years makes $c * (exp(rt) - 1)$ dollars of profit if the loan is paid back in full and $-c$ dollars of profit if the loan is not paid back in full (pessimistically).\r\n",
    "\r\n",
    "In order to evaluate the quality of an investment strategy, we need to compute this profit for each loan in the test set. For this variable, we will assume a $\\$1$ investment (aka $c=1$). To create the variable, we first assign to the profit for a fully paid loan, $exp(rt)-1$, to every observation, and we then replace this value with $-1$ in the cases where the loan was not paid in full. All the loans in our dataset are $3$-year loans, meaning $t=3$ in our calculations. \r\n",
    "\r\n",
    "What is the maximum profit of a $\\$10$ investment in any loan in the testing set?"
   ],
   "metadata": {}
  },
  {
   "cell_type": "code",
   "execution_count": 13,
   "source": [
    "test = X_test.copy()\r\n",
    "test['not.fully.paid'] = y_test\r\n",
    "test['profit'] = (np.exp(test['int.rate']*3)-1)\r\n",
    "test['profit'] = np.where(\r\n",
    "    test['not.fully.paid']==1,\r\n",
    "    -1,\r\n",
    "    test['profit']\r\n",
    ")\r\n",
    "print(\"Max Profit\", 10 * np.max(test['profit']))"
   ],
   "outputs": [
    {
     "output_type": "stream",
     "name": "stdout",
     "text": [
      "Max Profit 8.6974115219633\n"
     ]
    }
   ],
   "metadata": {}
  },
  {
   "cell_type": "markdown",
   "source": [
    "## Problem 6.1 - An Investment Strategy Based on Risk\r\n",
    "A simple investment strategy of equally investing in all the loans would yield profit $20.94 for a $100 investment. But this simple investment strategy does not leverage the prediction model we built earlier in this problem. As stated earlier, investors seek loans that balance reward with risk, in that they simultaneously have high interest rates and a low risk of not being paid back.\r\n",
    "\r\n",
    "To meet this objective, we will analyze an investment strategy in which the investor only purchases loans with a high interest rate (a rate of at least 15%), but amongst these loans selects the ones with the lowest predicted risk of not being paid back in full. We will model an investor who invests $1 in each of the most promising 100 loans.\r\n",
    "\r\n",
    "First, build a data frame called highInterest consisting of the test set loans with an interest rate of at least 15%.\r\n",
    "\r\n",
    "What is the average profit of a $\\$1$ investment in one of these high-interest loans?\r\n",
    "- 0.2799257623939107\r\n",
    "\r\n",
    "What proportion of the high-interest loans were not paid back in full?\r\n",
    "- 0.21608040201005024"
   ],
   "metadata": {}
  },
  {
   "cell_type": "code",
   "execution_count": 14,
   "source": [
    "highInterest = test[test['int.rate']>=0.15].copy()\r\n",
    "print(\"Avg profit:\", np.mean(highInterest['profit']))\r\n",
    "print(\"Portion of loans unpaid:\", np.mean(highInterest['not.fully.paid']))"
   ],
   "outputs": [
    {
     "output_type": "stream",
     "name": "stdout",
     "text": [
      "Avg profit: 0.2799257623939107\n",
      "Portion of loans unpaid: 0.21608040201005024\n"
     ]
    }
   ],
   "metadata": {}
  },
  {
   "cell_type": "markdown",
   "source": [
    "## Problem 6.2 - An Investment Strategy Based on Risk\r\n",
    "Next, we will determine the 100th smallest predicted probability of not paying in full by sorting the predicted risks in increasing order and selecting the 100th element of this sorted list. \r\n",
    "\r\n",
    "Build a data frame called selectedLoans consisting of the high-interest loans with predicted risk not exceeding the cutoff we just computed. Check to make sure you have selected 100 loans for investment.\r\n",
    "\r\n",
    "What is the profit of the investor, who invested $\\$1$ in each of these 100 loans?\r\n",
    "- Nan\r\n",
    "\r\n",
    "How many of 100 selected loans were not paid back in full?\r\n",
    "- Nan"
   ],
   "metadata": {}
  },
  {
   "cell_type": "code",
   "execution_count": 15,
   "source": [
    "cut_off = sorted(pred_2)[100]\r\n",
    "\r\n",
    "highInterest['pred_y'] = pred_2\r\n",
    "selectedLoans = highInterest[highInterest['pred_y']<=cut_off].copy()\r\n",
    "print(\"Avg profit:\", np.mean(selectedLoans['profit']))\r\n",
    "print(\"Portion of loans unpaid:\", np.mean(selectedLoans['not.fully.paid']))"
   ],
   "outputs": [
    {
     "output_type": "stream",
     "name": "stdout",
     "text": [
      "Avg profit: nan\n",
      "Portion of loans unpaid: nan\n"
     ]
    }
   ],
   "metadata": {}
  }
 ],
 "metadata": {
  "orig_nbformat": 4,
  "language_info": {
   "name": "python",
   "version": "3.9.6",
   "mimetype": "text/x-python",
   "codemirror_mode": {
    "name": "ipython",
    "version": 3
   },
   "pygments_lexer": "ipython3",
   "nbconvert_exporter": "python",
   "file_extension": ".py"
  },
  "kernelspec": {
   "name": "python3",
   "display_name": "Python 3.9.6 64-bit"
  },
  "interpreter": {
   "hash": "9e6fe232ec1802e04813a62eadbd4a033db6fcefdd78d84705bbb38e45fcef4a"
  }
 },
 "nbformat": 4,
 "nbformat_minor": 2
}